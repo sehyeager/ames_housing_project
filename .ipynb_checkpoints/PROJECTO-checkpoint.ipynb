{
 "cells": [
  {
   "cell_type": "code",
   "execution_count": 1,
   "metadata": {},
   "outputs": [],
   "source": [
    "import pandas as pd\n",
    "import numpy as np\n",
    "import matplotlib.pyplot as plt\n",
    "import seaborn as sns\n",
    "from sklearn.linear_model import LinearRegression\n",
    "from sklearn.model_selection import train_test_split\n",
    "from sklearn.metrics import r2_score\n"
   ]
  },
  {
   "cell_type": "markdown",
   "metadata": {},
   "source": [
    "PROBLEM STATEMENT:  Say you're a homeowner, hoping to improve their chances at selling their house.  What features of a property have the most positive impact on a house's sale price?\n",
    "My regression model, which is will be a "
   ]
  },
  {
   "cell_type": "code",
   "execution_count": null,
   "metadata": {},
   "outputs": [],
   "source": []
  },
  {
   "cell_type": "markdown",
   "metadata": {},
   "source": [
    "## Getting started, cleaning up\n",
    "Doing test and train side by side"
   ]
  },
  {
   "cell_type": "code",
   "execution_count": 114,
   "metadata": {},
   "outputs": [],
   "source": [
    "train_df = pd.read_csv('datasets/train.csv')"
   ]
  },
  {
   "cell_type": "code",
   "execution_count": 3,
   "metadata": {},
   "outputs": [],
   "source": [
    "test_df = pd.read_csv('datasets/test.csv')"
   ]
  },
  {
   "cell_type": "code",
   "execution_count": 100,
   "metadata": {
    "scrolled": true
   },
   "outputs": [
    {
     "data": {
      "text/html": [
       "<div>\n",
       "<style scoped>\n",
       "    .dataframe tbody tr th:only-of-type {\n",
       "        vertical-align: middle;\n",
       "    }\n",
       "\n",
       "    .dataframe tbody tr th {\n",
       "        vertical-align: top;\n",
       "    }\n",
       "\n",
       "    .dataframe thead th {\n",
       "        text-align: right;\n",
       "    }\n",
       "</style>\n",
       "<table border=\"1\" class=\"dataframe\">\n",
       "  <thead>\n",
       "    <tr style=\"text-align: right;\">\n",
       "      <th></th>\n",
       "      <th>Id</th>\n",
       "      <th>PID</th>\n",
       "      <th>MS SubClass</th>\n",
       "      <th>MS Zoning</th>\n",
       "      <th>Lot Frontage</th>\n",
       "      <th>Lot Area</th>\n",
       "      <th>Street</th>\n",
       "      <th>Alley</th>\n",
       "      <th>Lot Shape</th>\n",
       "      <th>Land Contour</th>\n",
       "      <th>...</th>\n",
       "      <th>Screen Porch</th>\n",
       "      <th>Pool Area</th>\n",
       "      <th>Pool QC</th>\n",
       "      <th>Fence</th>\n",
       "      <th>Misc Feature</th>\n",
       "      <th>Misc Val</th>\n",
       "      <th>Mo Sold</th>\n",
       "      <th>Yr Sold</th>\n",
       "      <th>Sale Type</th>\n",
       "      <th>SalePrice</th>\n",
       "    </tr>\n",
       "  </thead>\n",
       "  <tbody>\n",
       "    <tr>\n",
       "      <th>0</th>\n",
       "      <td>109</td>\n",
       "      <td>533352170</td>\n",
       "      <td>60</td>\n",
       "      <td>RL</td>\n",
       "      <td>NaN</td>\n",
       "      <td>13517</td>\n",
       "      <td>Pave</td>\n",
       "      <td>NaN</td>\n",
       "      <td>IR1</td>\n",
       "      <td>Lvl</td>\n",
       "      <td>...</td>\n",
       "      <td>0</td>\n",
       "      <td>0</td>\n",
       "      <td>NaN</td>\n",
       "      <td>NaN</td>\n",
       "      <td>NaN</td>\n",
       "      <td>0</td>\n",
       "      <td>3</td>\n",
       "      <td>2010</td>\n",
       "      <td>WD</td>\n",
       "      <td>130500</td>\n",
       "    </tr>\n",
       "    <tr>\n",
       "      <th>1</th>\n",
       "      <td>544</td>\n",
       "      <td>531379050</td>\n",
       "      <td>60</td>\n",
       "      <td>RL</td>\n",
       "      <td>43.0</td>\n",
       "      <td>11492</td>\n",
       "      <td>Pave</td>\n",
       "      <td>NaN</td>\n",
       "      <td>IR1</td>\n",
       "      <td>Lvl</td>\n",
       "      <td>...</td>\n",
       "      <td>0</td>\n",
       "      <td>0</td>\n",
       "      <td>NaN</td>\n",
       "      <td>NaN</td>\n",
       "      <td>NaN</td>\n",
       "      <td>0</td>\n",
       "      <td>4</td>\n",
       "      <td>2009</td>\n",
       "      <td>WD</td>\n",
       "      <td>220000</td>\n",
       "    </tr>\n",
       "    <tr>\n",
       "      <th>2</th>\n",
       "      <td>153</td>\n",
       "      <td>535304180</td>\n",
       "      <td>20</td>\n",
       "      <td>RL</td>\n",
       "      <td>68.0</td>\n",
       "      <td>7922</td>\n",
       "      <td>Pave</td>\n",
       "      <td>NaN</td>\n",
       "      <td>Reg</td>\n",
       "      <td>Lvl</td>\n",
       "      <td>...</td>\n",
       "      <td>0</td>\n",
       "      <td>0</td>\n",
       "      <td>NaN</td>\n",
       "      <td>NaN</td>\n",
       "      <td>NaN</td>\n",
       "      <td>0</td>\n",
       "      <td>1</td>\n",
       "      <td>2010</td>\n",
       "      <td>WD</td>\n",
       "      <td>109000</td>\n",
       "    </tr>\n",
       "    <tr>\n",
       "      <th>3</th>\n",
       "      <td>318</td>\n",
       "      <td>916386060</td>\n",
       "      <td>60</td>\n",
       "      <td>RL</td>\n",
       "      <td>73.0</td>\n",
       "      <td>9802</td>\n",
       "      <td>Pave</td>\n",
       "      <td>NaN</td>\n",
       "      <td>Reg</td>\n",
       "      <td>Lvl</td>\n",
       "      <td>...</td>\n",
       "      <td>0</td>\n",
       "      <td>0</td>\n",
       "      <td>NaN</td>\n",
       "      <td>NaN</td>\n",
       "      <td>NaN</td>\n",
       "      <td>0</td>\n",
       "      <td>4</td>\n",
       "      <td>2010</td>\n",
       "      <td>WD</td>\n",
       "      <td>174000</td>\n",
       "    </tr>\n",
       "    <tr>\n",
       "      <th>4</th>\n",
       "      <td>255</td>\n",
       "      <td>906425045</td>\n",
       "      <td>50</td>\n",
       "      <td>RL</td>\n",
       "      <td>82.0</td>\n",
       "      <td>14235</td>\n",
       "      <td>Pave</td>\n",
       "      <td>NaN</td>\n",
       "      <td>IR1</td>\n",
       "      <td>Lvl</td>\n",
       "      <td>...</td>\n",
       "      <td>0</td>\n",
       "      <td>0</td>\n",
       "      <td>NaN</td>\n",
       "      <td>NaN</td>\n",
       "      <td>NaN</td>\n",
       "      <td>0</td>\n",
       "      <td>3</td>\n",
       "      <td>2010</td>\n",
       "      <td>WD</td>\n",
       "      <td>138500</td>\n",
       "    </tr>\n",
       "  </tbody>\n",
       "</table>\n",
       "<p>5 rows × 81 columns</p>\n",
       "</div>"
      ],
      "text/plain": [
       "    Id        PID  MS SubClass MS Zoning  Lot Frontage  Lot Area Street Alley  \\\n",
       "0  109  533352170           60        RL           NaN     13517   Pave   NaN   \n",
       "1  544  531379050           60        RL          43.0     11492   Pave   NaN   \n",
       "2  153  535304180           20        RL          68.0      7922   Pave   NaN   \n",
       "3  318  916386060           60        RL          73.0      9802   Pave   NaN   \n",
       "4  255  906425045           50        RL          82.0     14235   Pave   NaN   \n",
       "\n",
       "  Lot Shape Land Contour  ... Screen Porch Pool Area Pool QC Fence  \\\n",
       "0       IR1          Lvl  ...            0         0     NaN   NaN   \n",
       "1       IR1          Lvl  ...            0         0     NaN   NaN   \n",
       "2       Reg          Lvl  ...            0         0     NaN   NaN   \n",
       "3       Reg          Lvl  ...            0         0     NaN   NaN   \n",
       "4       IR1          Lvl  ...            0         0     NaN   NaN   \n",
       "\n",
       "  Misc Feature Misc Val Mo Sold Yr Sold  Sale Type  SalePrice  \n",
       "0          NaN        0       3    2010        WD      130500  \n",
       "1          NaN        0       4    2009        WD      220000  \n",
       "2          NaN        0       1    2010        WD      109000  \n",
       "3          NaN        0       4    2010        WD      174000  \n",
       "4          NaN        0       3    2010        WD      138500  \n",
       "\n",
       "[5 rows x 81 columns]"
      ]
     },
     "execution_count": 100,
     "metadata": {},
     "output_type": "execute_result"
    }
   ],
   "source": [
    "train_df.head()"
   ]
  },
  {
   "cell_type": "code",
   "execution_count": 5,
   "metadata": {
    "scrolled": true
   },
   "outputs": [
    {
     "data": {
      "text/html": [
       "<div>\n",
       "<style scoped>\n",
       "    .dataframe tbody tr th:only-of-type {\n",
       "        vertical-align: middle;\n",
       "    }\n",
       "\n",
       "    .dataframe tbody tr th {\n",
       "        vertical-align: top;\n",
       "    }\n",
       "\n",
       "    .dataframe thead th {\n",
       "        text-align: right;\n",
       "    }\n",
       "</style>\n",
       "<table border=\"1\" class=\"dataframe\">\n",
       "  <thead>\n",
       "    <tr style=\"text-align: right;\">\n",
       "      <th></th>\n",
       "      <th>Id</th>\n",
       "      <th>PID</th>\n",
       "      <th>MS SubClass</th>\n",
       "      <th>MS Zoning</th>\n",
       "      <th>Lot Frontage</th>\n",
       "      <th>Lot Area</th>\n",
       "      <th>Street</th>\n",
       "      <th>Alley</th>\n",
       "      <th>Lot Shape</th>\n",
       "      <th>Land Contour</th>\n",
       "      <th>...</th>\n",
       "      <th>3Ssn Porch</th>\n",
       "      <th>Screen Porch</th>\n",
       "      <th>Pool Area</th>\n",
       "      <th>Pool QC</th>\n",
       "      <th>Fence</th>\n",
       "      <th>Misc Feature</th>\n",
       "      <th>Misc Val</th>\n",
       "      <th>Mo Sold</th>\n",
       "      <th>Yr Sold</th>\n",
       "      <th>Sale Type</th>\n",
       "    </tr>\n",
       "  </thead>\n",
       "  <tbody>\n",
       "    <tr>\n",
       "      <th>0</th>\n",
       "      <td>2658</td>\n",
       "      <td>902301120</td>\n",
       "      <td>190</td>\n",
       "      <td>RM</td>\n",
       "      <td>69.0</td>\n",
       "      <td>9142</td>\n",
       "      <td>Pave</td>\n",
       "      <td>Grvl</td>\n",
       "      <td>Reg</td>\n",
       "      <td>Lvl</td>\n",
       "      <td>...</td>\n",
       "      <td>0</td>\n",
       "      <td>0</td>\n",
       "      <td>0</td>\n",
       "      <td>NaN</td>\n",
       "      <td>NaN</td>\n",
       "      <td>NaN</td>\n",
       "      <td>0</td>\n",
       "      <td>4</td>\n",
       "      <td>2006</td>\n",
       "      <td>WD</td>\n",
       "    </tr>\n",
       "    <tr>\n",
       "      <th>1</th>\n",
       "      <td>2718</td>\n",
       "      <td>905108090</td>\n",
       "      <td>90</td>\n",
       "      <td>RL</td>\n",
       "      <td>NaN</td>\n",
       "      <td>9662</td>\n",
       "      <td>Pave</td>\n",
       "      <td>NaN</td>\n",
       "      <td>IR1</td>\n",
       "      <td>Lvl</td>\n",
       "      <td>...</td>\n",
       "      <td>0</td>\n",
       "      <td>0</td>\n",
       "      <td>0</td>\n",
       "      <td>NaN</td>\n",
       "      <td>NaN</td>\n",
       "      <td>NaN</td>\n",
       "      <td>0</td>\n",
       "      <td>8</td>\n",
       "      <td>2006</td>\n",
       "      <td>WD</td>\n",
       "    </tr>\n",
       "    <tr>\n",
       "      <th>2</th>\n",
       "      <td>2414</td>\n",
       "      <td>528218130</td>\n",
       "      <td>60</td>\n",
       "      <td>RL</td>\n",
       "      <td>58.0</td>\n",
       "      <td>17104</td>\n",
       "      <td>Pave</td>\n",
       "      <td>NaN</td>\n",
       "      <td>IR1</td>\n",
       "      <td>Lvl</td>\n",
       "      <td>...</td>\n",
       "      <td>0</td>\n",
       "      <td>0</td>\n",
       "      <td>0</td>\n",
       "      <td>NaN</td>\n",
       "      <td>NaN</td>\n",
       "      <td>NaN</td>\n",
       "      <td>0</td>\n",
       "      <td>9</td>\n",
       "      <td>2006</td>\n",
       "      <td>New</td>\n",
       "    </tr>\n",
       "    <tr>\n",
       "      <th>3</th>\n",
       "      <td>1989</td>\n",
       "      <td>902207150</td>\n",
       "      <td>30</td>\n",
       "      <td>RM</td>\n",
       "      <td>60.0</td>\n",
       "      <td>8520</td>\n",
       "      <td>Pave</td>\n",
       "      <td>NaN</td>\n",
       "      <td>Reg</td>\n",
       "      <td>Lvl</td>\n",
       "      <td>...</td>\n",
       "      <td>0</td>\n",
       "      <td>0</td>\n",
       "      <td>0</td>\n",
       "      <td>NaN</td>\n",
       "      <td>NaN</td>\n",
       "      <td>NaN</td>\n",
       "      <td>0</td>\n",
       "      <td>7</td>\n",
       "      <td>2007</td>\n",
       "      <td>WD</td>\n",
       "    </tr>\n",
       "    <tr>\n",
       "      <th>4</th>\n",
       "      <td>625</td>\n",
       "      <td>535105100</td>\n",
       "      <td>20</td>\n",
       "      <td>RL</td>\n",
       "      <td>NaN</td>\n",
       "      <td>9500</td>\n",
       "      <td>Pave</td>\n",
       "      <td>NaN</td>\n",
       "      <td>IR1</td>\n",
       "      <td>Lvl</td>\n",
       "      <td>...</td>\n",
       "      <td>0</td>\n",
       "      <td>185</td>\n",
       "      <td>0</td>\n",
       "      <td>NaN</td>\n",
       "      <td>NaN</td>\n",
       "      <td>NaN</td>\n",
       "      <td>0</td>\n",
       "      <td>7</td>\n",
       "      <td>2009</td>\n",
       "      <td>WD</td>\n",
       "    </tr>\n",
       "  </tbody>\n",
       "</table>\n",
       "<p>5 rows × 80 columns</p>\n",
       "</div>"
      ],
      "text/plain": [
       "     Id        PID  MS SubClass MS Zoning  Lot Frontage  Lot Area Street  \\\n",
       "0  2658  902301120          190        RM          69.0      9142   Pave   \n",
       "1  2718  905108090           90        RL           NaN      9662   Pave   \n",
       "2  2414  528218130           60        RL          58.0     17104   Pave   \n",
       "3  1989  902207150           30        RM          60.0      8520   Pave   \n",
       "4   625  535105100           20        RL           NaN      9500   Pave   \n",
       "\n",
       "  Alley Lot Shape Land Contour  ... 3Ssn Porch Screen Porch Pool Area Pool QC  \\\n",
       "0  Grvl       Reg          Lvl  ...          0            0         0     NaN   \n",
       "1   NaN       IR1          Lvl  ...          0            0         0     NaN   \n",
       "2   NaN       IR1          Lvl  ...          0            0         0     NaN   \n",
       "3   NaN       Reg          Lvl  ...          0            0         0     NaN   \n",
       "4   NaN       IR1          Lvl  ...          0          185         0     NaN   \n",
       "\n",
       "  Fence Misc Feature Misc Val Mo Sold  Yr Sold  Sale Type  \n",
       "0   NaN          NaN        0       4     2006        WD   \n",
       "1   NaN          NaN        0       8     2006        WD   \n",
       "2   NaN          NaN        0       9     2006        New  \n",
       "3   NaN          NaN        0       7     2007        WD   \n",
       "4   NaN          NaN        0       7     2009        WD   \n",
       "\n",
       "[5 rows x 80 columns]"
      ]
     },
     "execution_count": 5,
     "metadata": {},
     "output_type": "execute_result"
    }
   ],
   "source": [
    "test_df.head()"
   ]
  },
  {
   "cell_type": "code",
   "execution_count": 103,
   "metadata": {},
   "outputs": [
    {
     "data": {
      "text/plain": [
       "(2051, 81)"
      ]
     },
     "execution_count": 103,
     "metadata": {},
     "output_type": "execute_result"
    }
   ],
   "source": [
    "train_df.shape"
   ]
  },
  {
   "cell_type": "code",
   "execution_count": 7,
   "metadata": {
    "scrolled": true
   },
   "outputs": [
    {
     "data": {
      "text/plain": [
       "(878, 80)"
      ]
     },
     "execution_count": 7,
     "metadata": {},
     "output_type": "execute_result"
    }
   ],
   "source": [
    "test_df.shape"
   ]
  },
  {
   "cell_type": "code",
   "execution_count": 83,
   "metadata": {},
   "outputs": [
    {
     "data": {
      "text/html": [
       "<div>\n",
       "<style scoped>\n",
       "    .dataframe tbody tr th:only-of-type {\n",
       "        vertical-align: middle;\n",
       "    }\n",
       "\n",
       "    .dataframe tbody tr th {\n",
       "        vertical-align: top;\n",
       "    }\n",
       "\n",
       "    .dataframe thead th {\n",
       "        text-align: right;\n",
       "    }\n",
       "</style>\n",
       "<table border=\"1\" class=\"dataframe\">\n",
       "  <thead>\n",
       "    <tr style=\"text-align: right;\">\n",
       "      <th></th>\n",
       "      <th>id</th>\n",
       "      <th>PID</th>\n",
       "      <th>MS SubClass</th>\n",
       "      <th>lot_frontage</th>\n",
       "      <th>lot_area</th>\n",
       "      <th>overall_qual</th>\n",
       "      <th>overall_cond</th>\n",
       "      <th>year_built</th>\n",
       "      <th>year_remod_add</th>\n",
       "      <th>Mas Vnr Area</th>\n",
       "      <th>...</th>\n",
       "      <th>open_porch_sf</th>\n",
       "      <th>enclosed_porch_sf</th>\n",
       "      <th>3_season_porch_sf</th>\n",
       "      <th>screen_porch</th>\n",
       "      <th>pool_area</th>\n",
       "      <th>pool_qual</th>\n",
       "      <th>Misc Val</th>\n",
       "      <th>Mo Sold</th>\n",
       "      <th>Yr Sold</th>\n",
       "      <th>sale_price</th>\n",
       "    </tr>\n",
       "  </thead>\n",
       "  <tbody>\n",
       "    <tr>\n",
       "      <th>count</th>\n",
       "      <td>2051.000000</td>\n",
       "      <td>2.051000e+03</td>\n",
       "      <td>2051.000000</td>\n",
       "      <td>1721.000000</td>\n",
       "      <td>2051.000000</td>\n",
       "      <td>2051.000000</td>\n",
       "      <td>2051.000000</td>\n",
       "      <td>2051.000000</td>\n",
       "      <td>2051.000000</td>\n",
       "      <td>2029.000000</td>\n",
       "      <td>...</td>\n",
       "      <td>2051.000000</td>\n",
       "      <td>2051.000000</td>\n",
       "      <td>2051.000000</td>\n",
       "      <td>2051.000000</td>\n",
       "      <td>2051.000000</td>\n",
       "      <td>2051.000000</td>\n",
       "      <td>2051.000000</td>\n",
       "      <td>2051.000000</td>\n",
       "      <td>2051.000000</td>\n",
       "      <td>2051.000000</td>\n",
       "    </tr>\n",
       "    <tr>\n",
       "      <th>mean</th>\n",
       "      <td>1474.033642</td>\n",
       "      <td>7.135900e+08</td>\n",
       "      <td>57.008776</td>\n",
       "      <td>69.055200</td>\n",
       "      <td>10065.208191</td>\n",
       "      <td>6.112140</td>\n",
       "      <td>5.562165</td>\n",
       "      <td>1971.708922</td>\n",
       "      <td>1984.190151</td>\n",
       "      <td>99.695909</td>\n",
       "      <td>...</td>\n",
       "      <td>47.556802</td>\n",
       "      <td>22.571916</td>\n",
       "      <td>2.591419</td>\n",
       "      <td>16.511458</td>\n",
       "      <td>2.397855</td>\n",
       "      <td>0.013164</td>\n",
       "      <td>51.574354</td>\n",
       "      <td>6.219893</td>\n",
       "      <td>2007.775719</td>\n",
       "      <td>181469.701609</td>\n",
       "    </tr>\n",
       "    <tr>\n",
       "      <th>std</th>\n",
       "      <td>843.980841</td>\n",
       "      <td>1.886918e+08</td>\n",
       "      <td>42.824223</td>\n",
       "      <td>23.260653</td>\n",
       "      <td>6742.488909</td>\n",
       "      <td>1.426271</td>\n",
       "      <td>1.104497</td>\n",
       "      <td>30.177889</td>\n",
       "      <td>21.036250</td>\n",
       "      <td>174.963129</td>\n",
       "      <td>...</td>\n",
       "      <td>66.747241</td>\n",
       "      <td>59.845110</td>\n",
       "      <td>25.229615</td>\n",
       "      <td>57.374204</td>\n",
       "      <td>37.782570</td>\n",
       "      <td>0.205586</td>\n",
       "      <td>573.393985</td>\n",
       "      <td>2.744736</td>\n",
       "      <td>1.312014</td>\n",
       "      <td>79258.659352</td>\n",
       "    </tr>\n",
       "    <tr>\n",
       "      <th>min</th>\n",
       "      <td>1.000000</td>\n",
       "      <td>5.263011e+08</td>\n",
       "      <td>20.000000</td>\n",
       "      <td>21.000000</td>\n",
       "      <td>1300.000000</td>\n",
       "      <td>1.000000</td>\n",
       "      <td>1.000000</td>\n",
       "      <td>1872.000000</td>\n",
       "      <td>1950.000000</td>\n",
       "      <td>0.000000</td>\n",
       "      <td>...</td>\n",
       "      <td>0.000000</td>\n",
       "      <td>0.000000</td>\n",
       "      <td>0.000000</td>\n",
       "      <td>0.000000</td>\n",
       "      <td>0.000000</td>\n",
       "      <td>0.000000</td>\n",
       "      <td>0.000000</td>\n",
       "      <td>1.000000</td>\n",
       "      <td>2006.000000</td>\n",
       "      <td>12789.000000</td>\n",
       "    </tr>\n",
       "    <tr>\n",
       "      <th>25%</th>\n",
       "      <td>753.500000</td>\n",
       "      <td>5.284581e+08</td>\n",
       "      <td>20.000000</td>\n",
       "      <td>58.000000</td>\n",
       "      <td>7500.000000</td>\n",
       "      <td>5.000000</td>\n",
       "      <td>5.000000</td>\n",
       "      <td>1953.500000</td>\n",
       "      <td>1964.500000</td>\n",
       "      <td>0.000000</td>\n",
       "      <td>...</td>\n",
       "      <td>0.000000</td>\n",
       "      <td>0.000000</td>\n",
       "      <td>0.000000</td>\n",
       "      <td>0.000000</td>\n",
       "      <td>0.000000</td>\n",
       "      <td>0.000000</td>\n",
       "      <td>0.000000</td>\n",
       "      <td>4.000000</td>\n",
       "      <td>2007.000000</td>\n",
       "      <td>129825.000000</td>\n",
       "    </tr>\n",
       "    <tr>\n",
       "      <th>50%</th>\n",
       "      <td>1486.000000</td>\n",
       "      <td>5.354532e+08</td>\n",
       "      <td>50.000000</td>\n",
       "      <td>68.000000</td>\n",
       "      <td>9430.000000</td>\n",
       "      <td>6.000000</td>\n",
       "      <td>5.000000</td>\n",
       "      <td>1974.000000</td>\n",
       "      <td>1993.000000</td>\n",
       "      <td>0.000000</td>\n",
       "      <td>...</td>\n",
       "      <td>27.000000</td>\n",
       "      <td>0.000000</td>\n",
       "      <td>0.000000</td>\n",
       "      <td>0.000000</td>\n",
       "      <td>0.000000</td>\n",
       "      <td>0.000000</td>\n",
       "      <td>0.000000</td>\n",
       "      <td>6.000000</td>\n",
       "      <td>2008.000000</td>\n",
       "      <td>162500.000000</td>\n",
       "    </tr>\n",
       "    <tr>\n",
       "      <th>75%</th>\n",
       "      <td>2198.000000</td>\n",
       "      <td>9.071801e+08</td>\n",
       "      <td>70.000000</td>\n",
       "      <td>80.000000</td>\n",
       "      <td>11513.500000</td>\n",
       "      <td>7.000000</td>\n",
       "      <td>6.000000</td>\n",
       "      <td>2001.000000</td>\n",
       "      <td>2004.000000</td>\n",
       "      <td>161.000000</td>\n",
       "      <td>...</td>\n",
       "      <td>70.000000</td>\n",
       "      <td>0.000000</td>\n",
       "      <td>0.000000</td>\n",
       "      <td>0.000000</td>\n",
       "      <td>0.000000</td>\n",
       "      <td>0.000000</td>\n",
       "      <td>0.000000</td>\n",
       "      <td>8.000000</td>\n",
       "      <td>2009.000000</td>\n",
       "      <td>214000.000000</td>\n",
       "    </tr>\n",
       "    <tr>\n",
       "      <th>max</th>\n",
       "      <td>2930.000000</td>\n",
       "      <td>9.241520e+08</td>\n",
       "      <td>190.000000</td>\n",
       "      <td>313.000000</td>\n",
       "      <td>159000.000000</td>\n",
       "      <td>10.000000</td>\n",
       "      <td>9.000000</td>\n",
       "      <td>2010.000000</td>\n",
       "      <td>2010.000000</td>\n",
       "      <td>1600.000000</td>\n",
       "      <td>...</td>\n",
       "      <td>547.000000</td>\n",
       "      <td>432.000000</td>\n",
       "      <td>508.000000</td>\n",
       "      <td>490.000000</td>\n",
       "      <td>800.000000</td>\n",
       "      <td>5.000000</td>\n",
       "      <td>17000.000000</td>\n",
       "      <td>12.000000</td>\n",
       "      <td>2010.000000</td>\n",
       "      <td>611657.000000</td>\n",
       "    </tr>\n",
       "  </tbody>\n",
       "</table>\n",
       "<p>8 rows × 49 columns</p>\n",
       "</div>"
      ],
      "text/plain": [
       "                id           PID  MS SubClass  lot_frontage       lot_area  \\\n",
       "count  2051.000000  2.051000e+03  2051.000000   1721.000000    2051.000000   \n",
       "mean   1474.033642  7.135900e+08    57.008776     69.055200   10065.208191   \n",
       "std     843.980841  1.886918e+08    42.824223     23.260653    6742.488909   \n",
       "min       1.000000  5.263011e+08    20.000000     21.000000    1300.000000   \n",
       "25%     753.500000  5.284581e+08    20.000000     58.000000    7500.000000   \n",
       "50%    1486.000000  5.354532e+08    50.000000     68.000000    9430.000000   \n",
       "75%    2198.000000  9.071801e+08    70.000000     80.000000   11513.500000   \n",
       "max    2930.000000  9.241520e+08   190.000000    313.000000  159000.000000   \n",
       "\n",
       "       overall_qual  overall_cond   year_built  year_remod_add  Mas Vnr Area  \\\n",
       "count   2051.000000   2051.000000  2051.000000     2051.000000   2029.000000   \n",
       "mean       6.112140      5.562165  1971.708922     1984.190151     99.695909   \n",
       "std        1.426271      1.104497    30.177889       21.036250    174.963129   \n",
       "min        1.000000      1.000000  1872.000000     1950.000000      0.000000   \n",
       "25%        5.000000      5.000000  1953.500000     1964.500000      0.000000   \n",
       "50%        6.000000      5.000000  1974.000000     1993.000000      0.000000   \n",
       "75%        7.000000      6.000000  2001.000000     2004.000000    161.000000   \n",
       "max       10.000000      9.000000  2010.000000     2010.000000   1600.000000   \n",
       "\n",
       "       ...  open_porch_sf  enclosed_porch_sf  3_season_porch_sf  screen_porch  \\\n",
       "count  ...    2051.000000        2051.000000        2051.000000   2051.000000   \n",
       "mean   ...      47.556802          22.571916           2.591419     16.511458   \n",
       "std    ...      66.747241          59.845110          25.229615     57.374204   \n",
       "min    ...       0.000000           0.000000           0.000000      0.000000   \n",
       "25%    ...       0.000000           0.000000           0.000000      0.000000   \n",
       "50%    ...      27.000000           0.000000           0.000000      0.000000   \n",
       "75%    ...      70.000000           0.000000           0.000000      0.000000   \n",
       "max    ...     547.000000         432.000000         508.000000    490.000000   \n",
       "\n",
       "         pool_area    pool_qual      Misc Val      Mo Sold      Yr Sold  \\\n",
       "count  2051.000000  2051.000000   2051.000000  2051.000000  2051.000000   \n",
       "mean      2.397855     0.013164     51.574354     6.219893  2007.775719   \n",
       "std      37.782570     0.205586    573.393985     2.744736     1.312014   \n",
       "min       0.000000     0.000000      0.000000     1.000000  2006.000000   \n",
       "25%       0.000000     0.000000      0.000000     4.000000  2007.000000   \n",
       "50%       0.000000     0.000000      0.000000     6.000000  2008.000000   \n",
       "75%       0.000000     0.000000      0.000000     8.000000  2009.000000   \n",
       "max     800.000000     5.000000  17000.000000    12.000000  2010.000000   \n",
       "\n",
       "          sale_price  \n",
       "count    2051.000000  \n",
       "mean   181469.701609  \n",
       "std     79258.659352  \n",
       "min     12789.000000  \n",
       "25%    129825.000000  \n",
       "50%    162500.000000  \n",
       "75%    214000.000000  \n",
       "max    611657.000000  \n",
       "\n",
       "[8 rows x 49 columns]"
      ]
     },
     "execution_count": 83,
     "metadata": {},
     "output_type": "execute_result"
    }
   ],
   "source": [
    "train_df.describe()"
   ]
  },
  {
   "cell_type": "code",
   "execution_count": 85,
   "metadata": {},
   "outputs": [
    {
     "data": {
      "text/html": [
       "<div>\n",
       "<style scoped>\n",
       "    .dataframe tbody tr th:only-of-type {\n",
       "        vertical-align: middle;\n",
       "    }\n",
       "\n",
       "    .dataframe tbody tr th {\n",
       "        vertical-align: top;\n",
       "    }\n",
       "\n",
       "    .dataframe thead th {\n",
       "        text-align: right;\n",
       "    }\n",
       "</style>\n",
       "<table border=\"1\" class=\"dataframe\">\n",
       "  <thead>\n",
       "    <tr style=\"text-align: right;\">\n",
       "      <th></th>\n",
       "      <th>id</th>\n",
       "      <th>PID</th>\n",
       "      <th>MS SubClass</th>\n",
       "      <th>lot_frontage</th>\n",
       "      <th>lot_area</th>\n",
       "      <th>overall_qual</th>\n",
       "      <th>overall_cond</th>\n",
       "      <th>year_built</th>\n",
       "      <th>year_remod_add</th>\n",
       "      <th>Mas Vnr Area</th>\n",
       "      <th>...</th>\n",
       "      <th>screen_porch</th>\n",
       "      <th>pool_area</th>\n",
       "      <th>pool_qual</th>\n",
       "      <th>Misc Val</th>\n",
       "      <th>Mo Sold</th>\n",
       "      <th>Yr Sold</th>\n",
       "      <th>pool_area * pool_qual</th>\n",
       "      <th>tot_rms_abv_grd * overall_qual</th>\n",
       "      <th>sale_price</th>\n",
       "      <th>SalePrice</th>\n",
       "    </tr>\n",
       "  </thead>\n",
       "  <tbody>\n",
       "    <tr>\n",
       "      <th>count</th>\n",
       "      <td>878.000000</td>\n",
       "      <td>8.780000e+02</td>\n",
       "      <td>878.000000</td>\n",
       "      <td>878.000000</td>\n",
       "      <td>878.000000</td>\n",
       "      <td>878.000000</td>\n",
       "      <td>878.000000</td>\n",
       "      <td>878.000000</td>\n",
       "      <td>878.000000</td>\n",
       "      <td>878.000000</td>\n",
       "      <td>...</td>\n",
       "      <td>878.000000</td>\n",
       "      <td>878.000000</td>\n",
       "      <td>878.000000</td>\n",
       "      <td>878.000000</td>\n",
       "      <td>878.000000</td>\n",
       "      <td>878.000000</td>\n",
       "      <td>878.000000</td>\n",
       "      <td>878.000000</td>\n",
       "      <td>878.000000</td>\n",
       "      <td>878.000000</td>\n",
       "    </tr>\n",
       "    <tr>\n",
       "      <th>mean</th>\n",
       "      <td>1444.749431</td>\n",
       "      <td>7.162867e+08</td>\n",
       "      <td>58.268793</td>\n",
       "      <td>56.872437</td>\n",
       "      <td>10307.033030</td>\n",
       "      <td>6.050114</td>\n",
       "      <td>5.566059</td>\n",
       "      <td>1970.492027</td>\n",
       "      <td>1984.417995</td>\n",
       "      <td>106.115034</td>\n",
       "      <td>...</td>\n",
       "      <td>14.830296</td>\n",
       "      <td>1.884966</td>\n",
       "      <td>0.020501</td>\n",
       "      <td>48.498861</td>\n",
       "      <td>6.202733</td>\n",
       "      <td>2007.825740</td>\n",
       "      <td>8.413440</td>\n",
       "      <td>39.864465</td>\n",
       "      <td>178490.649905</td>\n",
       "      <td>178490.649905</td>\n",
       "    </tr>\n",
       "    <tr>\n",
       "      <th>std</th>\n",
       "      <td>850.838263</td>\n",
       "      <td>1.889103e+08</td>\n",
       "      <td>42.235407</td>\n",
       "      <td>34.269502</td>\n",
       "      <td>10002.674602</td>\n",
       "      <td>1.369065</td>\n",
       "      <td>1.128903</td>\n",
       "      <td>30.395895</td>\n",
       "      <td>20.450725</td>\n",
       "      <td>187.086530</td>\n",
       "      <td>...</td>\n",
       "      <td>53.003794</td>\n",
       "      <td>29.916672</td>\n",
       "      <td>0.308805</td>\n",
       "      <td>550.169317</td>\n",
       "      <td>2.642498</td>\n",
       "      <td>1.327861</td>\n",
       "      <td>137.101029</td>\n",
       "      <td>15.869798</td>\n",
       "      <td>70005.317619</td>\n",
       "      <td>70005.317619</td>\n",
       "    </tr>\n",
       "    <tr>\n",
       "      <th>min</th>\n",
       "      <td>2.000000</td>\n",
       "      <td>5.263021e+08</td>\n",
       "      <td>20.000000</td>\n",
       "      <td>0.000000</td>\n",
       "      <td>1477.000000</td>\n",
       "      <td>2.000000</td>\n",
       "      <td>1.000000</td>\n",
       "      <td>1880.000000</td>\n",
       "      <td>1950.000000</td>\n",
       "      <td>0.000000</td>\n",
       "      <td>...</td>\n",
       "      <td>0.000000</td>\n",
       "      <td>0.000000</td>\n",
       "      <td>0.000000</td>\n",
       "      <td>0.000000</td>\n",
       "      <td>1.000000</td>\n",
       "      <td>2006.000000</td>\n",
       "      <td>0.000000</td>\n",
       "      <td>6.000000</td>\n",
       "      <td>35289.282577</td>\n",
       "      <td>35289.282577</td>\n",
       "    </tr>\n",
       "    <tr>\n",
       "      <th>25%</th>\n",
       "      <td>692.250000</td>\n",
       "      <td>5.284841e+08</td>\n",
       "      <td>20.000000</td>\n",
       "      <td>40.000000</td>\n",
       "      <td>7297.250000</td>\n",
       "      <td>5.000000</td>\n",
       "      <td>5.000000</td>\n",
       "      <td>1954.000000</td>\n",
       "      <td>1967.000000</td>\n",
       "      <td>0.000000</td>\n",
       "      <td>...</td>\n",
       "      <td>0.000000</td>\n",
       "      <td>0.000000</td>\n",
       "      <td>0.000000</td>\n",
       "      <td>0.000000</td>\n",
       "      <td>5.000000</td>\n",
       "      <td>2007.000000</td>\n",
       "      <td>0.000000</td>\n",
       "      <td>30.000000</td>\n",
       "      <td>127850.332056</td>\n",
       "      <td>127850.332056</td>\n",
       "    </tr>\n",
       "    <tr>\n",
       "      <th>50%</th>\n",
       "      <td>1433.000000</td>\n",
       "      <td>5.354542e+08</td>\n",
       "      <td>50.000000</td>\n",
       "      <td>60.000000</td>\n",
       "      <td>9446.000000</td>\n",
       "      <td>6.000000</td>\n",
       "      <td>5.000000</td>\n",
       "      <td>1972.000000</td>\n",
       "      <td>1992.000000</td>\n",
       "      <td>0.000000</td>\n",
       "      <td>...</td>\n",
       "      <td>0.000000</td>\n",
       "      <td>0.000000</td>\n",
       "      <td>0.000000</td>\n",
       "      <td>0.000000</td>\n",
       "      <td>6.000000</td>\n",
       "      <td>2008.000000</td>\n",
       "      <td>0.000000</td>\n",
       "      <td>36.000000</td>\n",
       "      <td>166771.272620</td>\n",
       "      <td>166771.272620</td>\n",
       "    </tr>\n",
       "    <tr>\n",
       "      <th>75%</th>\n",
       "      <td>2197.500000</td>\n",
       "      <td>9.071904e+08</td>\n",
       "      <td>70.000000</td>\n",
       "      <td>78.000000</td>\n",
       "      <td>11589.000000</td>\n",
       "      <td>7.000000</td>\n",
       "      <td>6.000000</td>\n",
       "      <td>1999.750000</td>\n",
       "      <td>2003.000000</td>\n",
       "      <td>171.750000</td>\n",
       "      <td>...</td>\n",
       "      <td>0.000000</td>\n",
       "      <td>0.000000</td>\n",
       "      <td>0.000000</td>\n",
       "      <td>0.000000</td>\n",
       "      <td>8.000000</td>\n",
       "      <td>2009.000000</td>\n",
       "      <td>0.000000</td>\n",
       "      <td>49.000000</td>\n",
       "      <td>215751.315053</td>\n",
       "      <td>215751.315053</td>\n",
       "    </tr>\n",
       "    <tr>\n",
       "      <th>max</th>\n",
       "      <td>2928.000000</td>\n",
       "      <td>1.007100e+09</td>\n",
       "      <td>190.000000</td>\n",
       "      <td>182.000000</td>\n",
       "      <td>215245.000000</td>\n",
       "      <td>10.000000</td>\n",
       "      <td>9.000000</td>\n",
       "      <td>2010.000000</td>\n",
       "      <td>2010.000000</td>\n",
       "      <td>1378.000000</td>\n",
       "      <td>...</td>\n",
       "      <td>576.000000</td>\n",
       "      <td>555.000000</td>\n",
       "      <td>5.000000</td>\n",
       "      <td>15500.000000</td>\n",
       "      <td>12.000000</td>\n",
       "      <td>2010.000000</td>\n",
       "      <td>2775.000000</td>\n",
       "      <td>100.000000</td>\n",
       "      <td>567461.266356</td>\n",
       "      <td>567461.266356</td>\n",
       "    </tr>\n",
       "  </tbody>\n",
       "</table>\n",
       "<p>8 rows × 52 columns</p>\n",
       "</div>"
      ],
      "text/plain": [
       "                id           PID  MS SubClass  lot_frontage       lot_area  \\\n",
       "count   878.000000  8.780000e+02   878.000000    878.000000     878.000000   \n",
       "mean   1444.749431  7.162867e+08    58.268793     56.872437   10307.033030   \n",
       "std     850.838263  1.889103e+08    42.235407     34.269502   10002.674602   \n",
       "min       2.000000  5.263021e+08    20.000000      0.000000    1477.000000   \n",
       "25%     692.250000  5.284841e+08    20.000000     40.000000    7297.250000   \n",
       "50%    1433.000000  5.354542e+08    50.000000     60.000000    9446.000000   \n",
       "75%    2197.500000  9.071904e+08    70.000000     78.000000   11589.000000   \n",
       "max    2928.000000  1.007100e+09   190.000000    182.000000  215245.000000   \n",
       "\n",
       "       overall_qual  overall_cond   year_built  year_remod_add  Mas Vnr Area  \\\n",
       "count    878.000000    878.000000   878.000000      878.000000    878.000000   \n",
       "mean       6.050114      5.566059  1970.492027     1984.417995    106.115034   \n",
       "std        1.369065      1.128903    30.395895       20.450725    187.086530   \n",
       "min        2.000000      1.000000  1880.000000     1950.000000      0.000000   \n",
       "25%        5.000000      5.000000  1954.000000     1967.000000      0.000000   \n",
       "50%        6.000000      5.000000  1972.000000     1992.000000      0.000000   \n",
       "75%        7.000000      6.000000  1999.750000     2003.000000    171.750000   \n",
       "max       10.000000      9.000000  2010.000000     2010.000000   1378.000000   \n",
       "\n",
       "       ...  screen_porch   pool_area   pool_qual      Misc Val     Mo Sold  \\\n",
       "count  ...    878.000000  878.000000  878.000000    878.000000  878.000000   \n",
       "mean   ...     14.830296    1.884966    0.020501     48.498861    6.202733   \n",
       "std    ...     53.003794   29.916672    0.308805    550.169317    2.642498   \n",
       "min    ...      0.000000    0.000000    0.000000      0.000000    1.000000   \n",
       "25%    ...      0.000000    0.000000    0.000000      0.000000    5.000000   \n",
       "50%    ...      0.000000    0.000000    0.000000      0.000000    6.000000   \n",
       "75%    ...      0.000000    0.000000    0.000000      0.000000    8.000000   \n",
       "max    ...    576.000000  555.000000    5.000000  15500.000000   12.000000   \n",
       "\n",
       "           Yr Sold  pool_area * pool_qual  tot_rms_abv_grd * overall_qual  \\\n",
       "count   878.000000             878.000000                      878.000000   \n",
       "mean   2007.825740               8.413440                       39.864465   \n",
       "std       1.327861             137.101029                       15.869798   \n",
       "min    2006.000000               0.000000                        6.000000   \n",
       "25%    2007.000000               0.000000                       30.000000   \n",
       "50%    2008.000000               0.000000                       36.000000   \n",
       "75%    2009.000000               0.000000                       49.000000   \n",
       "max    2010.000000            2775.000000                      100.000000   \n",
       "\n",
       "          sale_price      SalePrice  \n",
       "count     878.000000     878.000000  \n",
       "mean   178490.649905  178490.649905  \n",
       "std     70005.317619   70005.317619  \n",
       "min     35289.282577   35289.282577  \n",
       "25%    127850.332056  127850.332056  \n",
       "50%    166771.272620  166771.272620  \n",
       "75%    215751.315053  215751.315053  \n",
       "max    567461.266356  567461.266356  \n",
       "\n",
       "[8 rows x 52 columns]"
      ]
     },
     "execution_count": 85,
     "metadata": {},
     "output_type": "execute_result"
    }
   ],
   "source": [
    "test_df.describe()"
   ]
  },
  {
   "cell_type": "markdown",
   "metadata": {},
   "source": [
    "Going through, cleaning up stuff and figuring out where nulls are.  "
   ]
  },
  {
   "cell_type": "code",
   "execution_count": 8,
   "metadata": {},
   "outputs": [
    {
     "data": {
      "text/plain": [
       "Full Bath            0\n",
       "Half Bath            0\n",
       "Bedroom AbvGr        0\n",
       "Kitchen AbvGr        0\n",
       "Kitchen Qual         0\n",
       "TotRms AbvGrd        0\n",
       "Functional           0\n",
       "Fireplaces           0\n",
       "Fireplace Qu      1000\n",
       "Garage Type        113\n",
       "Garage Yr Blt      114\n",
       "Garage Finish      114\n",
       "Garage Cars          1\n",
       "Garage Area          1\n",
       "Garage Qual        114\n",
       "Garage Cond        114\n",
       "Paved Drive          0\n",
       "Wood Deck SF         0\n",
       "Open Porch SF        0\n",
       "Enclosed Porch       0\n",
       "3Ssn Porch           0\n",
       "Screen Porch         0\n",
       "Pool Area            0\n",
       "Pool QC           2042\n",
       "Fence             1651\n",
       "Misc Feature      1986\n",
       "Misc Val             0\n",
       "Mo Sold              0\n",
       "Yr Sold              0\n",
       "Sale Type            0\n",
       "dtype: int64"
      ]
     },
     "execution_count": 8,
     "metadata": {},
     "output_type": "execute_result"
    }
   ],
   "source": [
    "train_df.isna().sum()[50:80]"
   ]
  },
  {
   "cell_type": "markdown",
   "metadata": {},
   "source": [
    "Changing all relevant ordinal values to numbers from 1-5."
   ]
  },
  {
   "cell_type": "code",
   "execution_count": 9,
   "metadata": {},
   "outputs": [],
   "source": [
    "train_df.replace(['Ex','Go','TA','Fa','Po', 'Gd'], [5,4,3,2,1,3], inplace = True)\n",
    "test_df.replace(['Ex','Go','TA','Fa','Po', 'Gd'], [5,4,3,2,1,3], inplace = True)"
   ]
  },
  {
   "cell_type": "markdown",
   "metadata": {},
   "source": [
    "Putting 0s in ordinal values where those values are only missing because there is no garage/pool/fireplace/basement to score.  Treating have no basement as equal to having a bad basement. (something to examine later, maybe this will improve my model?)"
   ]
  },
  {
   "cell_type": "code",
   "execution_count": 10,
   "metadata": {},
   "outputs": [],
   "source": [
    "train_df['Pool QC'].fillna(0, inplace = True)\n",
    "test_df['Pool QC'].fillna(0, inplace = True)"
   ]
  },
  {
   "cell_type": "code",
   "execution_count": 11,
   "metadata": {},
   "outputs": [],
   "source": [
    "train_df['Garage Qual'].fillna(0, inplace = True)\n",
    "test_df['Garage Qual'].fillna(0, inplace = True)"
   ]
  },
  {
   "cell_type": "code",
   "execution_count": 12,
   "metadata": {},
   "outputs": [],
   "source": [
    "train_df['Garage Cond'].fillna(0, inplace = True)\n",
    "test_df['Garage Cond'].fillna(0, inplace = True)"
   ]
  },
  {
   "cell_type": "code",
   "execution_count": 13,
   "metadata": {},
   "outputs": [],
   "source": [
    "train_df['Fireplace Qu'].fillna(0, inplace = True)\n",
    "test_df['Fireplace Qu'].fillna(0, inplace = True)"
   ]
  },
  {
   "cell_type": "code",
   "execution_count": 14,
   "metadata": {},
   "outputs": [],
   "source": [
    "train_df['Bsmt Cond'].fillna(0, inplace = True)\n",
    "test_df['Bsmt Cond'].fillna(0, inplace = True)"
   ]
  },
  {
   "cell_type": "code",
   "execution_count": 15,
   "metadata": {
    "scrolled": true
   },
   "outputs": [],
   "source": [
    "train_df['Bsmt Qual'].fillna(0, inplace = True)\n",
    "test_df['Bsmt Qual'].fillna(0, inplace = True)"
   ]
  },
  {
   "cell_type": "code",
   "execution_count": 16,
   "metadata": {},
   "outputs": [
    {
     "data": {
      "text/plain": [
       "Id                0\n",
       "PID               0\n",
       "MS SubClass       0\n",
       "MS Zoning         0\n",
       "Lot Frontage    160\n",
       "               ... \n",
       "Misc Feature    837\n",
       "Misc Val          0\n",
       "Mo Sold           0\n",
       "Yr Sold           0\n",
       "Sale Type         0\n",
       "Length: 80, dtype: int64"
      ]
     },
     "execution_count": 16,
     "metadata": {},
     "output_type": "execute_result"
    }
   ],
   "source": [
    "train_df.isna().sum()\n",
    "test_df.isna().sum()"
   ]
  },
  {
   "cell_type": "markdown",
   "metadata": {},
   "source": [
    "Changed all the columns with this scale of Ex to NA to a scale of 5 to 0."
   ]
  },
  {
   "cell_type": "code",
   "execution_count": 17,
   "metadata": {
    "scrolled": false
   },
   "outputs": [
    {
     "data": {
      "text/plain": [
       "(2051, 81)"
      ]
     },
     "execution_count": 17,
     "metadata": {},
     "output_type": "execute_result"
    }
   ],
   "source": [
    "train_df.shape"
   ]
  },
  {
   "cell_type": "code",
   "execution_count": 18,
   "metadata": {
    "scrolled": true
   },
   "outputs": [
    {
     "data": {
      "text/plain": [
       "Index(['Id', 'PID', 'MS SubClass', 'MS Zoning', 'Lot Frontage', 'Lot Area',\n",
       "       'Street', 'Alley', 'Lot Shape', 'Land Contour', 'Utilities',\n",
       "       'Lot Config', 'Land Slope', 'Neighborhood', 'Condition 1',\n",
       "       'Condition 2', 'Bldg Type', 'House Style', 'Overall Qual',\n",
       "       'Overall Cond', 'Year Built', 'Year Remod/Add', 'Roof Style',\n",
       "       'Roof Matl', 'Exterior 1st', 'Exterior 2nd', 'Mas Vnr Type',\n",
       "       'Mas Vnr Area', 'Exter Qual', 'Exter Cond', 'Foundation', 'Bsmt Qual',\n",
       "       'Bsmt Cond', 'Bsmt Exposure', 'BsmtFin Type 1', 'BsmtFin SF 1',\n",
       "       'BsmtFin Type 2', 'BsmtFin SF 2', 'Bsmt Unf SF', 'Total Bsmt SF',\n",
       "       'Heating', 'Heating QC', 'Central Air', 'Electrical', '1st Flr SF',\n",
       "       '2nd Flr SF', 'Low Qual Fin SF', 'Gr Liv Area', 'Bsmt Full Bath',\n",
       "       'Bsmt Half Bath', 'Full Bath', 'Half Bath', 'Bedroom AbvGr',\n",
       "       'Kitchen AbvGr', 'Kitchen Qual', 'TotRms AbvGrd', 'Functional',\n",
       "       'Fireplaces', 'Fireplace Qu', 'Garage Type', 'Garage Yr Blt',\n",
       "       'Garage Finish', 'Garage Cars', 'Garage Area', 'Garage Qual',\n",
       "       'Garage Cond', 'Paved Drive', 'Wood Deck SF', 'Open Porch SF',\n",
       "       'Enclosed Porch', '3Ssn Porch', 'Screen Porch', 'Pool Area', 'Pool QC',\n",
       "       'Fence', 'Misc Feature', 'Misc Val', 'Mo Sold', 'Yr Sold', 'Sale Type',\n",
       "       'SalePrice'],\n",
       "      dtype='object')"
      ]
     },
     "execution_count": 18,
     "metadata": {},
     "output_type": "execute_result"
    }
   ],
   "source": [
    "train_df.columns"
   ]
  },
  {
   "cell_type": "code",
   "execution_count": 19,
   "metadata": {},
   "outputs": [],
   "source": [
    "#lets pick some features, based on the data dict.\n",
    "#lot frontage! lot area! Overall Qual! Overall Cond! Year Built, Year Remod/Add, all the SFs, the room counts, total rooms above ground, Fireplaces, garage year built and cars and area, deck values and pool values, "
   ]
  },
  {
   "cell_type": "markdown",
   "metadata": {},
   "source": [
    "Renaming everything to snake_case."
   ]
  },
  {
   "cell_type": "code",
   "execution_count": 20,
   "metadata": {},
   "outputs": [],
   "source": [
    "train_df.rename(columns = \n",
    "                {'Id':'id',\n",
    "               'Lot Frontage':'lot_frontage',\n",
    "               'Lot Area':'lot_area',\n",
    "               'Overall Qual':'overall_qual',\n",
    "               'Overall Cond':'overall_cond',\n",
    "               'Year Built':'year_built',\n",
    "               'Year Remod/Add':'year_remod_add',\n",
    "                'Bsmt Qual':'bsmt_qual',\n",
    "                'Bsmt Cond':'bsmt_cond',\n",
    "                'Total Bsmt SF':'total_bsmt_sf',\n",
    "                '1st Flr SF':'1st_flr_sf',\n",
    "                '2nd Flr SF':'2nd_flr_sf',\n",
    "                'Low Qual Fin SF':'low_qual_fin_sf',\n",
    "                'Bsmt Full Bath':'bsmt_full_bath',\n",
    "               'Bsmt Half Bath':'bsmt_half_bath',\n",
    "                'Full Bath':'full_bath', \n",
    "                'Half Bath':'half_bath', \n",
    "                'Bedroom AbvGr':'bedroom_abv_gr',\n",
    "               'Kitchen AbvGr':'kitchen_abv_gr', \n",
    "                'Kitchen Qual':'kitchen_qual', \n",
    "                'TotRms AbvGrd':'tot_rms_abv_grd',\n",
    "                'Fireplaces':'fireplaces',\n",
    "                'Fireplace Qu':'fireplace_qual',\n",
    "                'Garage Yr Built':'garage_yr_built',\n",
    "                'Garage Cars':'garage_car_cap',\n",
    "                'Garage Area':'garage_area',\n",
    "                'Garage Qual':'garage_qual',\n",
    "                'Garage Cond':'garage_cond',\n",
    "                'Wood Deck SF':'wood_deck_sf',\n",
    "                'Open Porch SF':'open_porch_sf',\n",
    "               'Enclosed Porch':'enclosed_porch_sf',\n",
    "                '3Ssn Porch':'3_season_porch_sf', \n",
    "                'Screen Porch':'screen_porch', \n",
    "                'Pool Area':'pool_area', \n",
    "                'Pool QC':'pool_qual',\n",
    "                'SalePrice':'sale_price'},\n",
    "                inplace = True\n",
    "               )\n",
    "\n",
    "test_df.rename(columns = \n",
    "                {'Id':'id',\n",
    "               'Lot Frontage':'lot_frontage',\n",
    "               'Lot Area':'lot_area',\n",
    "               'Overall Qual':'overall_qual',\n",
    "               'Overall Cond':'overall_cond',\n",
    "               'Year Built':'year_built',\n",
    "               'Year Remod/Add':'year_remod_add',\n",
    "                'Bsmt Qual':'bsmt_qual',\n",
    "                'Bsmt Cond':'bsmt_cond',\n",
    "                'Total Bsmt SF':'total_bsmt_sf',\n",
    "                '1st Flr SF':'1st_flr_sf',\n",
    "                '2nd Flr SF':'2nd_flr_sf',\n",
    "                'Low Qual Fin SF':'low_qual_fin_sf',\n",
    "                'Bsmt Full Bath':'bsmt_full_bath',\n",
    "               'Bsmt Half Bath':'bsmt_half_bath',\n",
    "                'Full Bath':'full_bath', \n",
    "                'Half Bath':'half_bath', \n",
    "                'Bedroom AbvGr':'bedroom_abv_gr',\n",
    "               'Kitchen AbvGr':'kitchen_abv_gr', \n",
    "                'Kitchen Qual':'kitchen_qual', \n",
    "                'TotRms AbvGrd':'tot_rms_abv_grd',\n",
    "                'Fireplaces':'fireplaces',\n",
    "                'Fireplace Qu':'fireplace_qual',\n",
    "                'Garage Yr Built':'garage_yr_built',\n",
    "                'Garage Cars':'garage_car_cap',\n",
    "                'Garage Area':'garage_area',\n",
    "                'Garage Qual':'garage_qual',\n",
    "                'Garage Cond':'garage_cond',\n",
    "                'Wood Deck SF':'wood_deck_sf',\n",
    "                'Open Porch SF':'open_porch_sf',\n",
    "               'Enclosed Porch':'enclosed_porch_sf',\n",
    "                '3Ssn Porch':'3_season_porch_sf', \n",
    "                'Screen Porch':'screen_porch', \n",
    "                'Pool Area':'pool_area', \n",
    "                'Pool QC':'pool_qual',\n",
    "                'SalePrice':'sale_price'},\n",
    "                inplace = True\n",
    "               )"
   ]
  },
  {
   "cell_type": "markdown",
   "metadata": {},
   "source": [
    "Selecting what columns I want to build my model around.  Can add more later, if necessary.  Only focusing on cleaning up these, from here on out."
   ]
  },
  {
   "cell_type": "code",
   "execution_count": 21,
   "metadata": {},
   "outputs": [],
   "source": [
    "featured_columns = train_df.filter(['id',\n",
    "                            'lot_frontage',\n",
    "                            'lot_area',\n",
    "                            'overall_qual',\n",
    "                            'overall_cond',\n",
    "                            'year_built',\n",
    "                            'year_remod_add',\n",
    "                            'bsmt_qual',\n",
    "                            'bsmt_cond',\n",
    "                            'total_bsmt_sf',\n",
    "                            '1st_flr_sf',\n",
    "                            '2nd_flr_sf',\n",
    "                            'low_qual_fin_sf',\n",
    "                            'bsmt_full_bath',\n",
    "                            'bsmt_half_bath',\n",
    "                            'full_bath', \n",
    "                            'half_bath', \n",
    "                            'bedroom_abv_gr',\n",
    "                            'kitchen_abv_gr', \n",
    "                            'kitchen_qual',\n",
    "                            'tot_rms_abv_grd',\n",
    "                            'fireplaces',\n",
    "                            'fireplace_qual',\n",
    "                            'garage_yr_built',\n",
    "                            'garage_car_cap',\n",
    "                            'garage_area',\n",
    "                            'garage_qual',\n",
    "                            'garage_cond',\n",
    "                            'wood_deck_sf',\n",
    "                            'open_porch_sf',\n",
    "                            'enclosed_porch_sf',\n",
    "                            '3_season_porch_sf',\n",
    "                            'screen_porch',\n",
    "                            'pool_area',\n",
    "                            'pool_qual',\n",
    "                            'sale_price'],\n",
    "                           axis = 1)"
   ]
  },
  {
   "cell_type": "code",
   "execution_count": 22,
   "metadata": {
    "scrolled": true
   },
   "outputs": [
    {
     "data": {
      "text/plain": [
       "(2051, 35)"
      ]
     },
     "execution_count": 22,
     "metadata": {},
     "output_type": "execute_result"
    }
   ],
   "source": [
    "featured_columns.shape"
   ]
  },
  {
   "cell_type": "markdown",
   "metadata": {},
   "source": [
    "Got rid of a bunch of columns that, for now, are too much work for me to handle.  Gonna operate on just these 35, and that should be enough to get us a good model."
   ]
  },
  {
   "cell_type": "code",
   "execution_count": 23,
   "metadata": {},
   "outputs": [
    {
     "data": {
      "text/plain": [
       "id                     0\n",
       "lot_frontage         330\n",
       "lot_area               0\n",
       "overall_qual           0\n",
       "overall_cond           0\n",
       "year_built             0\n",
       "year_remod_add         0\n",
       "bsmt_qual              0\n",
       "bsmt_cond              0\n",
       "total_bsmt_sf          1\n",
       "1st_flr_sf             0\n",
       "2nd_flr_sf             0\n",
       "low_qual_fin_sf        0\n",
       "bsmt_full_bath         2\n",
       "bsmt_half_bath         2\n",
       "full_bath              0\n",
       "half_bath              0\n",
       "bedroom_abv_gr         0\n",
       "kitchen_abv_gr         0\n",
       "kitchen_qual           0\n",
       "tot_rms_abv_grd        0\n",
       "fireplaces             0\n",
       "fireplace_qual         0\n",
       "garage_car_cap         1\n",
       "garage_area            1\n",
       "garage_qual            0\n",
       "garage_cond            0\n",
       "wood_deck_sf           0\n",
       "open_porch_sf          0\n",
       "enclosed_porch_sf      0\n",
       "3_season_porch_sf      0\n",
       "screen_porch           0\n",
       "pool_area              0\n",
       "pool_qual              0\n",
       "sale_price             0\n",
       "dtype: int64"
      ]
     },
     "execution_count": 23,
     "metadata": {},
     "output_type": "execute_result"
    }
   ],
   "source": [
    "featured_columns.isna().sum()"
   ]
  },
  {
   "cell_type": "code",
   "execution_count": 24,
   "metadata": {},
   "outputs": [],
   "source": [
    "featured_columns.fillna(0,inplace = True)"
   ]
  },
  {
   "cell_type": "code",
   "execution_count": 25,
   "metadata": {},
   "outputs": [],
   "source": [
    "test_df.fillna(0, inplace = True)"
   ]
  },
  {
   "cell_type": "markdown",
   "metadata": {},
   "source": [
    "Fixing nulls!  Justifying these as, again, if it's a 0 it means there isn't one at all.  Having no street frontage for the house is the same as having 0."
   ]
  },
  {
   "cell_type": "code",
   "execution_count": 26,
   "metadata": {},
   "outputs": [
    {
     "data": {
      "text/plain": [
       "id                   0\n",
       "lot_frontage         0\n",
       "lot_area             0\n",
       "overall_qual         0\n",
       "overall_cond         0\n",
       "year_built           0\n",
       "year_remod_add       0\n",
       "bsmt_qual            0\n",
       "bsmt_cond            0\n",
       "total_bsmt_sf        0\n",
       "1st_flr_sf           0\n",
       "2nd_flr_sf           0\n",
       "low_qual_fin_sf      0\n",
       "bsmt_full_bath       0\n",
       "bsmt_half_bath       0\n",
       "full_bath            0\n",
       "half_bath            0\n",
       "bedroom_abv_gr       0\n",
       "kitchen_abv_gr       0\n",
       "kitchen_qual         0\n",
       "tot_rms_abv_grd      0\n",
       "fireplaces           0\n",
       "fireplace_qual       0\n",
       "garage_car_cap       0\n",
       "garage_area          0\n",
       "garage_qual          0\n",
       "garage_cond          0\n",
       "wood_deck_sf         0\n",
       "open_porch_sf        0\n",
       "enclosed_porch_sf    0\n",
       "3_season_porch_sf    0\n",
       "screen_porch         0\n",
       "pool_area            0\n",
       "pool_qual            0\n",
       "sale_price           0\n",
       "dtype: int64"
      ]
     },
     "execution_count": 26,
     "metadata": {},
     "output_type": "execute_result"
    }
   ],
   "source": [
    "featured_columns.isna().sum()"
   ]
  },
  {
   "cell_type": "code",
   "execution_count": 27,
   "metadata": {},
   "outputs": [
    {
     "data": {
      "text/plain": [
       "id                     int64\n",
       "lot_frontage         float64\n",
       "lot_area               int64\n",
       "overall_qual           int64\n",
       "overall_cond           int64\n",
       "year_built             int64\n",
       "year_remod_add         int64\n",
       "bsmt_qual            float64\n",
       "bsmt_cond            float64\n",
       "total_bsmt_sf        float64\n",
       "1st_flr_sf             int64\n",
       "2nd_flr_sf             int64\n",
       "low_qual_fin_sf        int64\n",
       "bsmt_full_bath       float64\n",
       "bsmt_half_bath       float64\n",
       "full_bath              int64\n",
       "half_bath              int64\n",
       "bedroom_abv_gr         int64\n",
       "kitchen_abv_gr         int64\n",
       "kitchen_qual           int64\n",
       "tot_rms_abv_grd        int64\n",
       "fireplaces             int64\n",
       "fireplace_qual       float64\n",
       "garage_car_cap       float64\n",
       "garage_area          float64\n",
       "garage_qual          float64\n",
       "garage_cond          float64\n",
       "wood_deck_sf           int64\n",
       "open_porch_sf          int64\n",
       "enclosed_porch_sf      int64\n",
       "3_season_porch_sf      int64\n",
       "screen_porch           int64\n",
       "pool_area              int64\n",
       "pool_qual            float64\n",
       "sale_price             int64\n",
       "dtype: object"
      ]
     },
     "execution_count": 27,
     "metadata": {},
     "output_type": "execute_result"
    }
   ],
   "source": [
    "featured_columns.dtypes"
   ]
  },
  {
   "cell_type": "markdown",
   "metadata": {},
   "source": [
    "No nulls!  All numbers!  Good for now.  Let's start some feature engineering.  As of now, with the model below, I've got a Kaggle score of 38363.  Let's make that a little better with some more features."
   ]
  },
  {
   "cell_type": "markdown",
   "metadata": {},
   "source": [
    "## Feature Engineering\n",
    "\n"
   ]
  },
  {
   "cell_type": "markdown",
   "metadata": {},
   "source": [
    "Running a pairplot on my 37 columns here would both brick my notebook and take up far too much screen space to be practical.  So I'm selecting features, based on the data dictionary's description, by hand to create valuable interaction terms."
   ]
  },
  {
   "cell_type": "code",
   "execution_count": 28,
   "metadata": {},
   "outputs": [
    {
     "data": {
      "text/plain": [
       "<matplotlib.collections.PathCollection at 0x7f86ed3cda30>"
      ]
     },
     "execution_count": 28,
     "metadata": {},
     "output_type": "execute_result"
    },
    {
     "data": {
      "image/png": "[encoded data removed]",
      "text/plain": [
       "<Figure size 432x288 with 1 Axes>"
      ]
     },
     "metadata": {
      "needs_background": "light"
     },
     "output_type": "display_data"
    }
   ],
   "source": [
    "plt.scatter(featured_columns['pool_area'],featured_columns['pool_qual'])"
   ]
  },
  {
   "cell_type": "markdown",
   "metadata": {},
   "source": [
    "Ooooh, seems like there's a relationship between 'pool area' and 'pool quality'.  let's make that interaction term a column."
   ]
  },
  {
   "cell_type": "code",
   "execution_count": 29,
   "metadata": {},
   "outputs": [],
   "source": [
    "featured_columns['pool_area * pool_qual'] = featured_columns['pool_area'] * featured_columns['pool_qual']\n",
    "test_df['pool_area * pool_qual'] = test_df['pool_area'] * test_df['pool_qual']"
   ]
  },
  {
   "cell_type": "markdown",
   "metadata": {},
   "source": [
    "Let's find at least one more interaction term we can use."
   ]
  },
  {
   "cell_type": "code",
   "execution_count": 30,
   "metadata": {},
   "outputs": [
    {
     "data": {
      "text/plain": [
       "<matplotlib.collections.PathCollection at 0x7f86ed4e9ee0>"
      ]
     },
     "execution_count": 30,
     "metadata": {},
     "output_type": "execute_result"
    },
    {
     "data": {
      "image/png": "[encoded data removed]",
      "text/plain": [
       "<Figure size 432x288 with 1 Axes>"
      ]
     },
     "metadata": {
      "needs_background": "light"
     },
     "output_type": "display_data"
    }
   ],
   "source": [
    "plt.scatter(featured_columns['tot_rms_abv_grd'], featured_columns['overall_qual'])"
   ]
  },
  {
   "cell_type": "markdown",
   "metadata": {},
   "source": [
    "Sweet.  Looks like the more rooms we have above ground, the better our overall quality score is."
   ]
  },
  {
   "cell_type": "code",
   "execution_count": 31,
   "metadata": {},
   "outputs": [],
   "source": [
    "featured_columns['tot_rms_abv_grd * overall_qual'] = featured_columns['tot_rms_abv_grd'] * featured_columns['overall_qual']\n",
    "test_df['tot_rms_abv_grd * overall_qual'] = test_df['tot_rms_abv_grd'] * test_df['overall_qual']"
   ]
  },
  {
   "cell_type": "code",
   "execution_count": 72,
   "metadata": {},
   "outputs": [
    {
     "data": {
      "text/plain": [
       "(2051, 37)"
      ]
     },
     "execution_count": 72,
     "metadata": {},
     "output_type": "execute_result"
    }
   ],
   "source": [
    "featured_columns.shape"
   ]
  },
  {
   "cell_type": "code",
   "execution_count": 75,
   "metadata": {},
   "outputs": [
    {
     "data": {
      "text/plain": [
       "(878, 37)"
      ]
     },
     "execution_count": 75,
     "metadata": {},
     "output_type": "execute_result"
    }
   ],
   "source": [
    "test_df[list(featured_columns.columns)].shape"
   ]
  },
  {
   "cell_type": "markdown",
   "metadata": {},
   "source": [
    "Feature engineering complete!  I fear further adding interaction terms as columns will create too much noise, so I'm stopping with these two. "
   ]
  },
  {
   "cell_type": "markdown",
   "metadata": {},
   "source": [
    "## Let's build a model (using Riley's tips from the 14th)"
   ]
  },
  {
   "cell_type": "code",
   "execution_count": 32,
   "metadata": {},
   "outputs": [],
   "source": [
    "X = featured_columns.drop(columns = ['id','sale_price'])\n",
    "features = list(X.columns)\n",
    "y = featured_columns['sale_price']"
   ]
  },
  {
   "cell_type": "code",
   "execution_count": 33,
   "metadata": {},
   "outputs": [],
   "source": [
    "X_train, X_test, y_train, y_test = train_test_split(X,y)"
   ]
  },
  {
   "cell_type": "markdown",
   "metadata": {},
   "source": [
    "Building our linear regression model.  KISS(Keep it simple, stupid) seems to have been the rule here.  Scaling my features, applying a logarithmic regression, none of that provided a better score than the simple linear regression model built below."
   ]
  },
  {
   "cell_type": "code",
   "execution_count": 35,
   "metadata": {},
   "outputs": [
    {
     "data": {
      "text/plain": [
       "LinearRegression()"
      ]
     },
     "execution_count": 35,
     "metadata": {},
     "output_type": "execute_result"
    }
   ],
   "source": [
    "lr = LinearRegression()\n",
    "lr.fit(X_train, y_train)"
   ]
  },
  {
   "cell_type": "code",
   "execution_count": 36,
   "metadata": {},
   "outputs": [],
   "source": [
    "pred = lr.predict(X_test)\n",
    "residuals = y_test - pred"
   ]
  },
  {
   "cell_type": "code",
   "execution_count": 38,
   "metadata": {
    "scrolled": true
   },
   "outputs": [
    {
     "data": {
      "text/plain": [
       "<AxesSubplot:>"
      ]
     },
     "execution_count": 38,
     "metadata": {},
     "output_type": "execute_result"
    },
    {
     "data": {
      "image/png": "[encoded data removed]",
      "text/plain": [
       "<Figure size 432x288 with 1 Axes>"
      ]
     },
     "metadata": {
      "needs_background": "light"
     },
     "output_type": "display_data"
    }
   ],
   "source": [
    "y.hist()"
   ]
  },
  {
   "cell_type": "code",
   "execution_count": 40,
   "metadata": {},
   "outputs": [
    {
     "data": {
      "image/png": "[encoded data removed]",
      "text/plain": [
       "<Figure size 432x288 with 1 Axes>"
      ]
     },
     "metadata": {
      "needs_background": "light"
     },
     "output_type": "display_data"
    }
   ],
   "source": [
    "plt.hist(residuals);"
   ]
  },
  {
   "cell_type": "markdown",
   "metadata": {},
   "source": [
    "An almost normal distribution of residuals.  I tried applying logarithmic regression, to make it more normal, but it wound up reducing my final score, and thus making my model worse.  Leaving this as is."
   ]
  },
  {
   "cell_type": "code",
   "execution_count": 43,
   "metadata": {},
   "outputs": [
    {
     "data": {
      "image/png": "[encoded data removed]",
      "text/plain": [
       "<Figure size 432x288 with 1 Axes>"
      ]
     },
     "metadata": {
      "needs_background": "light"
     },
     "output_type": "display_data"
    }
   ],
   "source": [
    "plt.scatter(pred, residuals);"
   ]
  },
  {
   "cell_type": "markdown",
   "metadata": {},
   "source": [
    "Not particularly homescedastic, but the bias isn't horrible."
   ]
  },
  {
   "cell_type": "markdown",
   "metadata": {},
   "source": [
    "These scores are gonne be a touch wacky, thanks to the linear regression model being fit to a logarithmi"
   ]
  },
  {
   "cell_type": "code",
   "execution_count": 45,
   "metadata": {
    "scrolled": true
   },
   "outputs": [
    {
     "data": {
      "text/plain": [
       "0.8485641318688689"
      ]
     },
     "execution_count": 45,
     "metadata": {},
     "output_type": "execute_result"
    }
   ],
   "source": [
    "lr.score(X_train, y_train)"
   ]
  },
  {
   "cell_type": "code",
   "execution_count": 47,
   "metadata": {
    "scrolled": false
   },
   "outputs": [
    {
     "data": {
      "text/plain": [
       "0.8633746556689713"
      ]
     },
     "execution_count": 47,
     "metadata": {},
     "output_type": "execute_result"
    }
   ],
   "source": [
    "lr.score(X_test, y_test)"
   ]
  },
  {
   "cell_type": "code",
   "execution_count": 52,
   "metadata": {},
   "outputs": [
    {
     "data": {
      "text/plain": [
       "lot_frontage                      0\n",
       "lot_area                          0\n",
       "overall_qual                      0\n",
       "overall_cond                      0\n",
       "year_built                        0\n",
       "year_remod_add                    0\n",
       "bsmt_qual                         0\n",
       "bsmt_cond                         0\n",
       "total_bsmt_sf                     0\n",
       "1st_flr_sf                        0\n",
       "2nd_flr_sf                        0\n",
       "low_qual_fin_sf                   0\n",
       "bsmt_full_bath                    0\n",
       "bsmt_half_bath                    0\n",
       "full_bath                         0\n",
       "half_bath                         0\n",
       "bedroom_abv_gr                    0\n",
       "kitchen_abv_gr                    0\n",
       "kitchen_qual                      0\n",
       "tot_rms_abv_grd                   0\n",
       "fireplaces                        0\n",
       "fireplace_qual                    0\n",
       "garage_car_cap                    0\n",
       "garage_area                       0\n",
       "garage_qual                       0\n",
       "garage_cond                       0\n",
       "wood_deck_sf                      0\n",
       "open_porch_sf                     0\n",
       "enclosed_porch_sf                 0\n",
       "3_season_porch_sf                 0\n",
       "screen_porch                      0\n",
       "pool_area                         0\n",
       "pool_qual                         0\n",
       "pool_area * pool_qual             0\n",
       "tot_rms_abv_grd * overall_qual    0\n",
       "dtype: int64"
      ]
     },
     "execution_count": 52,
     "metadata": {},
     "output_type": "execute_result"
    }
   ],
   "source": [
    "test_df[features].isnull().sum()"
   ]
  },
  {
   "cell_type": "code",
   "execution_count": 53,
   "metadata": {},
   "outputs": [],
   "source": [
    "test_pred = lr.predict(test_df[features])\n",
    "\n",
    "test_df['SalePrice'] =test_pred]\n",
    "\n",
    "test_df[['id', 'SalePrice']].to_csv('submission.csv', index=False)"
   ]
  },
  {
   "cell_type": "code",
   "execution_count": 87,
   "metadata": {},
   "outputs": [
    {
     "data": {
      "text/plain": [
       "33.90004461549436"
      ]
     },
     "execution_count": 87,
     "metadata": {},
     "output_type": "execute_result"
    }
   ],
   "source": [
    "lr.coef_[0]"
   ]
  },
  {
   "cell_type": "markdown",
   "metadata": {},
   "source": [
    "Model built, and submitted!  Got a decent score, too!  I tried adding logarithms, scaling, pipelines, none of it really improved what I have here.  Stopping with the futzing from here."
   ]
  },
  {
   "cell_type": "markdown",
   "metadata": {},
   "source": [
    "## Visualization Time!"
   ]
  },
  {
   "cell_type": "markdown",
   "metadata": {},
   "source": [
    "This is a bit of a gimme, but let's see what the relationship between overall quality of a property and it's sale price is!"
   ]
  },
  {
   "cell_type": "code",
   "execution_count": 56,
   "metadata": {},
   "outputs": [
    {
     "data": {
      "image/png": "[encoded data removed]",
      "text/plain": [
       "<Figure size 720x576 with 1 Axes>"
      ]
     },
     "metadata": {
      "needs_background": "light"
     },
     "output_type": "display_data"
    }
   ],
   "source": [
    "plt.figure(figsize=(10,8))\n",
    "plt.title('Property Quality to Sale Price')\n",
    "plt.xlabel('Overall Quality Score')\n",
    "plt.ylabel('Sale Price (USD)')\n",
    "plt.scatter(train_df['overall_qual'], train_df['sale_price']);"
   ]
  },
  {
   "cell_type": "markdown",
   "metadata": {},
   "source": [
    "Like I said, a gimme.  Of course the quality of a property will increase how much it sells for!  But maybe we can see some interesting correlations between property quality and other features of our dataset."
   ]
  },
  {
   "cell_type": "markdown",
   "metadata": {},
   "source": [
    "Now let's take a look at the relationship between Year Built and Overall Quality."
   ]
  },
  {
   "cell_type": "code",
   "execution_count": 81,
   "metadata": {},
   "outputs": [
    {
     "data": {
      "image/png": "[encoded data removed]",
      "text/plain": [
       "<Figure size 720x576 with 1 Axes>"
      ]
     },
     "metadata": {
      "needs_background": "light"
     },
     "output_type": "display_data"
    }
   ],
   "source": [
    "plt.figure(figsize=(10,8))\n",
    "plt.title('Year Built to OQS')\n",
    "plt.xlabel('Year Built')\n",
    "plt.ylabel('Overall Quality Score')\n",
    "plt.scatter(train_df['year_built'], train_df['overall_qual']);"
   ]
  },
  {
   "cell_type": "markdown",
   "metadata": {},
   "source": [
    "Fascinating.  The relationship is nearly non-existent up to the year 1960.  Past that point, scores trend higher.  This is likely a result of those buildings being much younger, and thus less worn down.  There exist some notable properties on the left end, however, which I imagine represent more ancient buildings, such as old mansions and estates, that must have been kept in excellent condition in order to last as long as they did."
   ]
  },
  {
   "cell_type": "markdown",
   "metadata": {},
   "source": [
    "How about lot frontage to sale price?"
   ]
  },
  {
   "cell_type": "code",
   "execution_count": 96,
   "metadata": {},
   "outputs": [
    {
     "data": {
      "image/png": "[encoded data removed]",
      "text/plain": [
       "<Figure size 720x576 with 1 Axes>"
      ]
     },
     "metadata": {
      "needs_background": "light"
     },
     "output_type": "display_data"
    }
   ],
   "source": [
    "plt.figure(figsize=(10,8))\n",
    "plt.title('Year Built to OQS')\n",
    "plt.xlabel('Lot Frontage (in Feet)')\n",
    "plt.ylabel('Sale Price (in USD)')\n",
    "plt.scatter(train_df['lot_frontage'], train_df['sale_price']);"
   ]
  },
  {
   "cell_type": "markdown",
   "metadata": {},
   "source": [
    "A weird blob, but I think there's still something to glean from this.  There seems to be an amount of "
   ]
  }
 ],
 "metadata": {
  "kernelspec": {
   "display_name": "Python 3",
   "language": "python",
   "name": "python3"
  },
  "language_info": {
   "codemirror_mode": {
    "name": "ipython",
    "version": 3
   },
   "file_extension": ".py",
   "mimetype": "text/x-python",
   "name": "python",
   "nbconvert_exporter": "python",
   "pygments_lexer": "ipython3",
   "version": "3.8.5"
  }
 },
 "nbformat": 4,
 "nbformat_minor": 4
}
