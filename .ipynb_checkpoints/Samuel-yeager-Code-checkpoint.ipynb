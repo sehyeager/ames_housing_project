{
 "cells": [
  {
   "cell_type": "code",
   "execution_count": 753,
   "metadata": {},
   "outputs": [],
   "source": [
    "import pandas as pd\n",
    "import numpy as np\n",
    "import matplotlib.pyplot as plt\n",
    "import seaborn as sns\n",
    "from sklearn.linear_model import LinearRegression, LogisticRegression, Lasso, Ridge\n",
    "from sklearn.model_selection import train_test_split\n",
    "from sklearn import metrics\n",
    "from sklearn.preprocessing import StandardScaler\n",
    "from sklearn.dummy import DummyRegressor\n"
   ]
  },
  {
   "cell_type": "markdown",
   "metadata": {},
   "source": [
    "PROBLEM STATEMENT:  Say you're a homeowner, hoping to improve their chances at selling their house.  What features of a property have the most positive impact on a house's sale price?\n",
    "My regression model will help to find what features of a home have the greatest impact on it's sale."
   ]
  },
  {
   "cell_type": "markdown",
   "metadata": {},
   "source": [
    "# Getting started, cleaning up\n",
    "Doing test and train side by side"
   ]
  },
  {
   "cell_type": "code",
   "execution_count": 677,
   "metadata": {},
   "outputs": [],
   "source": [
    "train_df = pd.read_csv('datasets/train.csv')"
   ]
  },
  {
   "cell_type": "code",
   "execution_count": 678,
   "metadata": {},
   "outputs": [],
   "source": [
    "test_df = pd.read_csv('datasets/test.csv')"
   ]
  },
  {
   "cell_type": "code",
   "execution_count": 679,
   "metadata": {
    "scrolled": true
   },
   "outputs": [
    {
     "data": {
      "text/html": [
       "<div>\n",
       "<style scoped>\n",
       "    .dataframe tbody tr th:only-of-type {\n",
       "        vertical-align: middle;\n",
       "    }\n",
       "\n",
       "    .dataframe tbody tr th {\n",
       "        vertical-align: top;\n",
       "    }\n",
       "\n",
       "    .dataframe thead th {\n",
       "        text-align: right;\n",
       "    }\n",
       "</style>\n",
       "<table border=\"1\" class=\"dataframe\">\n",
       "  <thead>\n",
       "    <tr style=\"text-align: right;\">\n",
       "      <th></th>\n",
       "      <th>Id</th>\n",
       "      <th>PID</th>\n",
       "      <th>MS SubClass</th>\n",
       "      <th>MS Zoning</th>\n",
       "      <th>Lot Frontage</th>\n",
       "      <th>Lot Area</th>\n",
       "      <th>Street</th>\n",
       "      <th>Alley</th>\n",
       "      <th>Lot Shape</th>\n",
       "      <th>Land Contour</th>\n",
       "      <th>...</th>\n",
       "      <th>Screen Porch</th>\n",
       "      <th>Pool Area</th>\n",
       "      <th>Pool QC</th>\n",
       "      <th>Fence</th>\n",
       "      <th>Misc Feature</th>\n",
       "      <th>Misc Val</th>\n",
       "      <th>Mo Sold</th>\n",
       "      <th>Yr Sold</th>\n",
       "      <th>Sale Type</th>\n",
       "      <th>SalePrice</th>\n",
       "    </tr>\n",
       "  </thead>\n",
       "  <tbody>\n",
       "    <tr>\n",
       "      <th>0</th>\n",
       "      <td>109</td>\n",
       "      <td>533352170</td>\n",
       "      <td>60</td>\n",
       "      <td>RL</td>\n",
       "      <td>NaN</td>\n",
       "      <td>13517</td>\n",
       "      <td>Pave</td>\n",
       "      <td>NaN</td>\n",
       "      <td>IR1</td>\n",
       "      <td>Lvl</td>\n",
       "      <td>...</td>\n",
       "      <td>0</td>\n",
       "      <td>0</td>\n",
       "      <td>NaN</td>\n",
       "      <td>NaN</td>\n",
       "      <td>NaN</td>\n",
       "      <td>0</td>\n",
       "      <td>3</td>\n",
       "      <td>2010</td>\n",
       "      <td>WD</td>\n",
       "      <td>130500</td>\n",
       "    </tr>\n",
       "    <tr>\n",
       "      <th>1</th>\n",
       "      <td>544</td>\n",
       "      <td>531379050</td>\n",
       "      <td>60</td>\n",
       "      <td>RL</td>\n",
       "      <td>43.0</td>\n",
       "      <td>11492</td>\n",
       "      <td>Pave</td>\n",
       "      <td>NaN</td>\n",
       "      <td>IR1</td>\n",
       "      <td>Lvl</td>\n",
       "      <td>...</td>\n",
       "      <td>0</td>\n",
       "      <td>0</td>\n",
       "      <td>NaN</td>\n",
       "      <td>NaN</td>\n",
       "      <td>NaN</td>\n",
       "      <td>0</td>\n",
       "      <td>4</td>\n",
       "      <td>2009</td>\n",
       "      <td>WD</td>\n",
       "      <td>220000</td>\n",
       "    </tr>\n",
       "    <tr>\n",
       "      <th>2</th>\n",
       "      <td>153</td>\n",
       "      <td>535304180</td>\n",
       "      <td>20</td>\n",
       "      <td>RL</td>\n",
       "      <td>68.0</td>\n",
       "      <td>7922</td>\n",
       "      <td>Pave</td>\n",
       "      <td>NaN</td>\n",
       "      <td>Reg</td>\n",
       "      <td>Lvl</td>\n",
       "      <td>...</td>\n",
       "      <td>0</td>\n",
       "      <td>0</td>\n",
       "      <td>NaN</td>\n",
       "      <td>NaN</td>\n",
       "      <td>NaN</td>\n",
       "      <td>0</td>\n",
       "      <td>1</td>\n",
       "      <td>2010</td>\n",
       "      <td>WD</td>\n",
       "      <td>109000</td>\n",
       "    </tr>\n",
       "    <tr>\n",
       "      <th>3</th>\n",
       "      <td>318</td>\n",
       "      <td>916386060</td>\n",
       "      <td>60</td>\n",
       "      <td>RL</td>\n",
       "      <td>73.0</td>\n",
       "      <td>9802</td>\n",
       "      <td>Pave</td>\n",
       "      <td>NaN</td>\n",
       "      <td>Reg</td>\n",
       "      <td>Lvl</td>\n",
       "      <td>...</td>\n",
       "      <td>0</td>\n",
       "      <td>0</td>\n",
       "      <td>NaN</td>\n",
       "      <td>NaN</td>\n",
       "      <td>NaN</td>\n",
       "      <td>0</td>\n",
       "      <td>4</td>\n",
       "      <td>2010</td>\n",
       "      <td>WD</td>\n",
       "      <td>174000</td>\n",
       "    </tr>\n",
       "    <tr>\n",
       "      <th>4</th>\n",
       "      <td>255</td>\n",
       "      <td>906425045</td>\n",
       "      <td>50</td>\n",
       "      <td>RL</td>\n",
       "      <td>82.0</td>\n",
       "      <td>14235</td>\n",
       "      <td>Pave</td>\n",
       "      <td>NaN</td>\n",
       "      <td>IR1</td>\n",
       "      <td>Lvl</td>\n",
       "      <td>...</td>\n",
       "      <td>0</td>\n",
       "      <td>0</td>\n",
       "      <td>NaN</td>\n",
       "      <td>NaN</td>\n",
       "      <td>NaN</td>\n",
       "      <td>0</td>\n",
       "      <td>3</td>\n",
       "      <td>2010</td>\n",
       "      <td>WD</td>\n",
       "      <td>138500</td>\n",
       "    </tr>\n",
       "  </tbody>\n",
       "</table>\n",
       "<p>5 rows × 81 columns</p>\n",
       "</div>"
      ],
      "text/plain": [
       "    Id        PID  MS SubClass MS Zoning  Lot Frontage  Lot Area Street Alley  \\\n",
       "0  109  533352170           60        RL           NaN     13517   Pave   NaN   \n",
       "1  544  531379050           60        RL          43.0     11492   Pave   NaN   \n",
       "2  153  535304180           20        RL          68.0      7922   Pave   NaN   \n",
       "3  318  916386060           60        RL          73.0      9802   Pave   NaN   \n",
       "4  255  906425045           50        RL          82.0     14235   Pave   NaN   \n",
       "\n",
       "  Lot Shape Land Contour  ... Screen Porch Pool Area Pool QC Fence  \\\n",
       "0       IR1          Lvl  ...            0         0     NaN   NaN   \n",
       "1       IR1          Lvl  ...            0         0     NaN   NaN   \n",
       "2       Reg          Lvl  ...            0         0     NaN   NaN   \n",
       "3       Reg          Lvl  ...            0         0     NaN   NaN   \n",
       "4       IR1          Lvl  ...            0         0     NaN   NaN   \n",
       "\n",
       "  Misc Feature Misc Val Mo Sold Yr Sold  Sale Type  SalePrice  \n",
       "0          NaN        0       3    2010        WD      130500  \n",
       "1          NaN        0       4    2009        WD      220000  \n",
       "2          NaN        0       1    2010        WD      109000  \n",
       "3          NaN        0       4    2010        WD      174000  \n",
       "4          NaN        0       3    2010        WD      138500  \n",
       "\n",
       "[5 rows x 81 columns]"
      ]
     },
     "execution_count": 679,
     "metadata": {},
     "output_type": "execute_result"
    }
   ],
   "source": [
    "train_df.head()"
   ]
  },
  {
   "cell_type": "code",
   "execution_count": 680,
   "metadata": {
    "scrolled": true
   },
   "outputs": [
    {
     "data": {
      "text/html": [
       "<div>\n",
       "<style scoped>\n",
       "    .dataframe tbody tr th:only-of-type {\n",
       "        vertical-align: middle;\n",
       "    }\n",
       "\n",
       "    .dataframe tbody tr th {\n",
       "        vertical-align: top;\n",
       "    }\n",
       "\n",
       "    .dataframe thead th {\n",
       "        text-align: right;\n",
       "    }\n",
       "</style>\n",
       "<table border=\"1\" class=\"dataframe\">\n",
       "  <thead>\n",
       "    <tr style=\"text-align: right;\">\n",
       "      <th></th>\n",
       "      <th>Id</th>\n",
       "      <th>PID</th>\n",
       "      <th>MS SubClass</th>\n",
       "      <th>MS Zoning</th>\n",
       "      <th>Lot Frontage</th>\n",
       "      <th>Lot Area</th>\n",
       "      <th>Street</th>\n",
       "      <th>Alley</th>\n",
       "      <th>Lot Shape</th>\n",
       "      <th>Land Contour</th>\n",
       "      <th>...</th>\n",
       "      <th>3Ssn Porch</th>\n",
       "      <th>Screen Porch</th>\n",
       "      <th>Pool Area</th>\n",
       "      <th>Pool QC</th>\n",
       "      <th>Fence</th>\n",
       "      <th>Misc Feature</th>\n",
       "      <th>Misc Val</th>\n",
       "      <th>Mo Sold</th>\n",
       "      <th>Yr Sold</th>\n",
       "      <th>Sale Type</th>\n",
       "    </tr>\n",
       "  </thead>\n",
       "  <tbody>\n",
       "    <tr>\n",
       "      <th>0</th>\n",
       "      <td>2658</td>\n",
       "      <td>902301120</td>\n",
       "      <td>190</td>\n",
       "      <td>RM</td>\n",
       "      <td>69.0</td>\n",
       "      <td>9142</td>\n",
       "      <td>Pave</td>\n",
       "      <td>Grvl</td>\n",
       "      <td>Reg</td>\n",
       "      <td>Lvl</td>\n",
       "      <td>...</td>\n",
       "      <td>0</td>\n",
       "      <td>0</td>\n",
       "      <td>0</td>\n",
       "      <td>NaN</td>\n",
       "      <td>NaN</td>\n",
       "      <td>NaN</td>\n",
       "      <td>0</td>\n",
       "      <td>4</td>\n",
       "      <td>2006</td>\n",
       "      <td>WD</td>\n",
       "    </tr>\n",
       "    <tr>\n",
       "      <th>1</th>\n",
       "      <td>2718</td>\n",
       "      <td>905108090</td>\n",
       "      <td>90</td>\n",
       "      <td>RL</td>\n",
       "      <td>NaN</td>\n",
       "      <td>9662</td>\n",
       "      <td>Pave</td>\n",
       "      <td>NaN</td>\n",
       "      <td>IR1</td>\n",
       "      <td>Lvl</td>\n",
       "      <td>...</td>\n",
       "      <td>0</td>\n",
       "      <td>0</td>\n",
       "      <td>0</td>\n",
       "      <td>NaN</td>\n",
       "      <td>NaN</td>\n",
       "      <td>NaN</td>\n",
       "      <td>0</td>\n",
       "      <td>8</td>\n",
       "      <td>2006</td>\n",
       "      <td>WD</td>\n",
       "    </tr>\n",
       "    <tr>\n",
       "      <th>2</th>\n",
       "      <td>2414</td>\n",
       "      <td>528218130</td>\n",
       "      <td>60</td>\n",
       "      <td>RL</td>\n",
       "      <td>58.0</td>\n",
       "      <td>17104</td>\n",
       "      <td>Pave</td>\n",
       "      <td>NaN</td>\n",
       "      <td>IR1</td>\n",
       "      <td>Lvl</td>\n",
       "      <td>...</td>\n",
       "      <td>0</td>\n",
       "      <td>0</td>\n",
       "      <td>0</td>\n",
       "      <td>NaN</td>\n",
       "      <td>NaN</td>\n",
       "      <td>NaN</td>\n",
       "      <td>0</td>\n",
       "      <td>9</td>\n",
       "      <td>2006</td>\n",
       "      <td>New</td>\n",
       "    </tr>\n",
       "    <tr>\n",
       "      <th>3</th>\n",
       "      <td>1989</td>\n",
       "      <td>902207150</td>\n",
       "      <td>30</td>\n",
       "      <td>RM</td>\n",
       "      <td>60.0</td>\n",
       "      <td>8520</td>\n",
       "      <td>Pave</td>\n",
       "      <td>NaN</td>\n",
       "      <td>Reg</td>\n",
       "      <td>Lvl</td>\n",
       "      <td>...</td>\n",
       "      <td>0</td>\n",
       "      <td>0</td>\n",
       "      <td>0</td>\n",
       "      <td>NaN</td>\n",
       "      <td>NaN</td>\n",
       "      <td>NaN</td>\n",
       "      <td>0</td>\n",
       "      <td>7</td>\n",
       "      <td>2007</td>\n",
       "      <td>WD</td>\n",
       "    </tr>\n",
       "    <tr>\n",
       "      <th>4</th>\n",
       "      <td>625</td>\n",
       "      <td>535105100</td>\n",
       "      <td>20</td>\n",
       "      <td>RL</td>\n",
       "      <td>NaN</td>\n",
       "      <td>9500</td>\n",
       "      <td>Pave</td>\n",
       "      <td>NaN</td>\n",
       "      <td>IR1</td>\n",
       "      <td>Lvl</td>\n",
       "      <td>...</td>\n",
       "      <td>0</td>\n",
       "      <td>185</td>\n",
       "      <td>0</td>\n",
       "      <td>NaN</td>\n",
       "      <td>NaN</td>\n",
       "      <td>NaN</td>\n",
       "      <td>0</td>\n",
       "      <td>7</td>\n",
       "      <td>2009</td>\n",
       "      <td>WD</td>\n",
       "    </tr>\n",
       "  </tbody>\n",
       "</table>\n",
       "<p>5 rows × 80 columns</p>\n",
       "</div>"
      ],
      "text/plain": [
       "     Id        PID  MS SubClass MS Zoning  Lot Frontage  Lot Area Street  \\\n",
       "0  2658  902301120          190        RM          69.0      9142   Pave   \n",
       "1  2718  905108090           90        RL           NaN      9662   Pave   \n",
       "2  2414  528218130           60        RL          58.0     17104   Pave   \n",
       "3  1989  902207150           30        RM          60.0      8520   Pave   \n",
       "4   625  535105100           20        RL           NaN      9500   Pave   \n",
       "\n",
       "  Alley Lot Shape Land Contour  ... 3Ssn Porch Screen Porch Pool Area Pool QC  \\\n",
       "0  Grvl       Reg          Lvl  ...          0            0         0     NaN   \n",
       "1   NaN       IR1          Lvl  ...          0            0         0     NaN   \n",
       "2   NaN       IR1          Lvl  ...          0            0         0     NaN   \n",
       "3   NaN       Reg          Lvl  ...          0            0         0     NaN   \n",
       "4   NaN       IR1          Lvl  ...          0          185         0     NaN   \n",
       "\n",
       "  Fence Misc Feature Misc Val Mo Sold  Yr Sold  Sale Type  \n",
       "0   NaN          NaN        0       4     2006        WD   \n",
       "1   NaN          NaN        0       8     2006        WD   \n",
       "2   NaN          NaN        0       9     2006        New  \n",
       "3   NaN          NaN        0       7     2007        WD   \n",
       "4   NaN          NaN        0       7     2009        WD   \n",
       "\n",
       "[5 rows x 80 columns]"
      ]
     },
     "execution_count": 680,
     "metadata": {},
     "output_type": "execute_result"
    }
   ],
   "source": [
    "test_df.head()"
   ]
  },
  {
   "cell_type": "code",
   "execution_count": 681,
   "metadata": {
    "scrolled": true
   },
   "outputs": [
    {
     "data": {
      "text/plain": [
       "(2051, 81)"
      ]
     },
     "execution_count": 681,
     "metadata": {},
     "output_type": "execute_result"
    }
   ],
   "source": [
    "train_df.shape"
   ]
  },
  {
   "cell_type": "code",
   "execution_count": 682,
   "metadata": {
    "scrolled": true
   },
   "outputs": [
    {
     "data": {
      "text/plain": [
       "(878, 80)"
      ]
     },
     "execution_count": 682,
     "metadata": {},
     "output_type": "execute_result"
    }
   ],
   "source": [
    "test_df.shape"
   ]
  },
  {
   "cell_type": "markdown",
   "metadata": {},
   "source": [
    "Let's get a look at some summary statistics."
   ]
  },
  {
   "cell_type": "code",
   "execution_count": 683,
   "metadata": {
    "scrolled": false
   },
   "outputs": [
    {
     "data": {
      "text/html": [
       "<div>\n",
       "<style scoped>\n",
       "    .dataframe tbody tr th:only-of-type {\n",
       "        vertical-align: middle;\n",
       "    }\n",
       "\n",
       "    .dataframe tbody tr th {\n",
       "        vertical-align: top;\n",
       "    }\n",
       "\n",
       "    .dataframe thead th {\n",
       "        text-align: right;\n",
       "    }\n",
       "</style>\n",
       "<table border=\"1\" class=\"dataframe\">\n",
       "  <thead>\n",
       "    <tr style=\"text-align: right;\">\n",
       "      <th></th>\n",
       "      <th>Id</th>\n",
       "      <th>PID</th>\n",
       "      <th>MS SubClass</th>\n",
       "      <th>Lot Frontage</th>\n",
       "      <th>Lot Area</th>\n",
       "      <th>Overall Qual</th>\n",
       "      <th>Overall Cond</th>\n",
       "      <th>Year Built</th>\n",
       "      <th>Year Remod/Add</th>\n",
       "      <th>Mas Vnr Area</th>\n",
       "      <th>...</th>\n",
       "      <th>Wood Deck SF</th>\n",
       "      <th>Open Porch SF</th>\n",
       "      <th>Enclosed Porch</th>\n",
       "      <th>3Ssn Porch</th>\n",
       "      <th>Screen Porch</th>\n",
       "      <th>Pool Area</th>\n",
       "      <th>Misc Val</th>\n",
       "      <th>Mo Sold</th>\n",
       "      <th>Yr Sold</th>\n",
       "      <th>SalePrice</th>\n",
       "    </tr>\n",
       "  </thead>\n",
       "  <tbody>\n",
       "    <tr>\n",
       "      <th>count</th>\n",
       "      <td>2051.000000</td>\n",
       "      <td>2.051000e+03</td>\n",
       "      <td>2051.000000</td>\n",
       "      <td>1721.000000</td>\n",
       "      <td>2051.000000</td>\n",
       "      <td>2051.000000</td>\n",
       "      <td>2051.000000</td>\n",
       "      <td>2051.000000</td>\n",
       "      <td>2051.000000</td>\n",
       "      <td>2029.000000</td>\n",
       "      <td>...</td>\n",
       "      <td>2051.000000</td>\n",
       "      <td>2051.000000</td>\n",
       "      <td>2051.000000</td>\n",
       "      <td>2051.000000</td>\n",
       "      <td>2051.000000</td>\n",
       "      <td>2051.000000</td>\n",
       "      <td>2051.000000</td>\n",
       "      <td>2051.000000</td>\n",
       "      <td>2051.000000</td>\n",
       "      <td>2051.000000</td>\n",
       "    </tr>\n",
       "    <tr>\n",
       "      <th>mean</th>\n",
       "      <td>1474.033642</td>\n",
       "      <td>7.135900e+08</td>\n",
       "      <td>57.008776</td>\n",
       "      <td>69.055200</td>\n",
       "      <td>10065.208191</td>\n",
       "      <td>6.112140</td>\n",
       "      <td>5.562165</td>\n",
       "      <td>1971.708922</td>\n",
       "      <td>1984.190151</td>\n",
       "      <td>99.695909</td>\n",
       "      <td>...</td>\n",
       "      <td>93.833740</td>\n",
       "      <td>47.556802</td>\n",
       "      <td>22.571916</td>\n",
       "      <td>2.591419</td>\n",
       "      <td>16.511458</td>\n",
       "      <td>2.397855</td>\n",
       "      <td>51.574354</td>\n",
       "      <td>6.219893</td>\n",
       "      <td>2007.775719</td>\n",
       "      <td>181469.701609</td>\n",
       "    </tr>\n",
       "    <tr>\n",
       "      <th>std</th>\n",
       "      <td>843.980841</td>\n",
       "      <td>1.886918e+08</td>\n",
       "      <td>42.824223</td>\n",
       "      <td>23.260653</td>\n",
       "      <td>6742.488909</td>\n",
       "      <td>1.426271</td>\n",
       "      <td>1.104497</td>\n",
       "      <td>30.177889</td>\n",
       "      <td>21.036250</td>\n",
       "      <td>174.963129</td>\n",
       "      <td>...</td>\n",
       "      <td>128.549416</td>\n",
       "      <td>66.747241</td>\n",
       "      <td>59.845110</td>\n",
       "      <td>25.229615</td>\n",
       "      <td>57.374204</td>\n",
       "      <td>37.782570</td>\n",
       "      <td>573.393985</td>\n",
       "      <td>2.744736</td>\n",
       "      <td>1.312014</td>\n",
       "      <td>79258.659352</td>\n",
       "    </tr>\n",
       "    <tr>\n",
       "      <th>min</th>\n",
       "      <td>1.000000</td>\n",
       "      <td>5.263011e+08</td>\n",
       "      <td>20.000000</td>\n",
       "      <td>21.000000</td>\n",
       "      <td>1300.000000</td>\n",
       "      <td>1.000000</td>\n",
       "      <td>1.000000</td>\n",
       "      <td>1872.000000</td>\n",
       "      <td>1950.000000</td>\n",
       "      <td>0.000000</td>\n",
       "      <td>...</td>\n",
       "      <td>0.000000</td>\n",
       "      <td>0.000000</td>\n",
       "      <td>0.000000</td>\n",
       "      <td>0.000000</td>\n",
       "      <td>0.000000</td>\n",
       "      <td>0.000000</td>\n",
       "      <td>0.000000</td>\n",
       "      <td>1.000000</td>\n",
       "      <td>2006.000000</td>\n",
       "      <td>12789.000000</td>\n",
       "    </tr>\n",
       "    <tr>\n",
       "      <th>25%</th>\n",
       "      <td>753.500000</td>\n",
       "      <td>5.284581e+08</td>\n",
       "      <td>20.000000</td>\n",
       "      <td>58.000000</td>\n",
       "      <td>7500.000000</td>\n",
       "      <td>5.000000</td>\n",
       "      <td>5.000000</td>\n",
       "      <td>1953.500000</td>\n",
       "      <td>1964.500000</td>\n",
       "      <td>0.000000</td>\n",
       "      <td>...</td>\n",
       "      <td>0.000000</td>\n",
       "      <td>0.000000</td>\n",
       "      <td>0.000000</td>\n",
       "      <td>0.000000</td>\n",
       "      <td>0.000000</td>\n",
       "      <td>0.000000</td>\n",
       "      <td>0.000000</td>\n",
       "      <td>4.000000</td>\n",
       "      <td>2007.000000</td>\n",
       "      <td>129825.000000</td>\n",
       "    </tr>\n",
       "    <tr>\n",
       "      <th>50%</th>\n",
       "      <td>1486.000000</td>\n",
       "      <td>5.354532e+08</td>\n",
       "      <td>50.000000</td>\n",
       "      <td>68.000000</td>\n",
       "      <td>9430.000000</td>\n",
       "      <td>6.000000</td>\n",
       "      <td>5.000000</td>\n",
       "      <td>1974.000000</td>\n",
       "      <td>1993.000000</td>\n",
       "      <td>0.000000</td>\n",
       "      <td>...</td>\n",
       "      <td>0.000000</td>\n",
       "      <td>27.000000</td>\n",
       "      <td>0.000000</td>\n",
       "      <td>0.000000</td>\n",
       "      <td>0.000000</td>\n",
       "      <td>0.000000</td>\n",
       "      <td>0.000000</td>\n",
       "      <td>6.000000</td>\n",
       "      <td>2008.000000</td>\n",
       "      <td>162500.000000</td>\n",
       "    </tr>\n",
       "    <tr>\n",
       "      <th>75%</th>\n",
       "      <td>2198.000000</td>\n",
       "      <td>9.071801e+08</td>\n",
       "      <td>70.000000</td>\n",
       "      <td>80.000000</td>\n",
       "      <td>11513.500000</td>\n",
       "      <td>7.000000</td>\n",
       "      <td>6.000000</td>\n",
       "      <td>2001.000000</td>\n",
       "      <td>2004.000000</td>\n",
       "      <td>161.000000</td>\n",
       "      <td>...</td>\n",
       "      <td>168.000000</td>\n",
       "      <td>70.000000</td>\n",
       "      <td>0.000000</td>\n",
       "      <td>0.000000</td>\n",
       "      <td>0.000000</td>\n",
       "      <td>0.000000</td>\n",
       "      <td>0.000000</td>\n",
       "      <td>8.000000</td>\n",
       "      <td>2009.000000</td>\n",
       "      <td>214000.000000</td>\n",
       "    </tr>\n",
       "    <tr>\n",
       "      <th>max</th>\n",
       "      <td>2930.000000</td>\n",
       "      <td>9.241520e+08</td>\n",
       "      <td>190.000000</td>\n",
       "      <td>313.000000</td>\n",
       "      <td>159000.000000</td>\n",
       "      <td>10.000000</td>\n",
       "      <td>9.000000</td>\n",
       "      <td>2010.000000</td>\n",
       "      <td>2010.000000</td>\n",
       "      <td>1600.000000</td>\n",
       "      <td>...</td>\n",
       "      <td>1424.000000</td>\n",
       "      <td>547.000000</td>\n",
       "      <td>432.000000</td>\n",
       "      <td>508.000000</td>\n",
       "      <td>490.000000</td>\n",
       "      <td>800.000000</td>\n",
       "      <td>17000.000000</td>\n",
       "      <td>12.000000</td>\n",
       "      <td>2010.000000</td>\n",
       "      <td>611657.000000</td>\n",
       "    </tr>\n",
       "  </tbody>\n",
       "</table>\n",
       "<p>8 rows × 39 columns</p>\n",
       "</div>"
      ],
      "text/plain": [
       "                Id           PID  MS SubClass  Lot Frontage       Lot Area  \\\n",
       "count  2051.000000  2.051000e+03  2051.000000   1721.000000    2051.000000   \n",
       "mean   1474.033642  7.135900e+08    57.008776     69.055200   10065.208191   \n",
       "std     843.980841  1.886918e+08    42.824223     23.260653    6742.488909   \n",
       "min       1.000000  5.263011e+08    20.000000     21.000000    1300.000000   \n",
       "25%     753.500000  5.284581e+08    20.000000     58.000000    7500.000000   \n",
       "50%    1486.000000  5.354532e+08    50.000000     68.000000    9430.000000   \n",
       "75%    2198.000000  9.071801e+08    70.000000     80.000000   11513.500000   \n",
       "max    2930.000000  9.241520e+08   190.000000    313.000000  159000.000000   \n",
       "\n",
       "       Overall Qual  Overall Cond   Year Built  Year Remod/Add  Mas Vnr Area  \\\n",
       "count   2051.000000   2051.000000  2051.000000     2051.000000   2029.000000   \n",
       "mean       6.112140      5.562165  1971.708922     1984.190151     99.695909   \n",
       "std        1.426271      1.104497    30.177889       21.036250    174.963129   \n",
       "min        1.000000      1.000000  1872.000000     1950.000000      0.000000   \n",
       "25%        5.000000      5.000000  1953.500000     1964.500000      0.000000   \n",
       "50%        6.000000      5.000000  1974.000000     1993.000000      0.000000   \n",
       "75%        7.000000      6.000000  2001.000000     2004.000000    161.000000   \n",
       "max       10.000000      9.000000  2010.000000     2010.000000   1600.000000   \n",
       "\n",
       "       ...  Wood Deck SF  Open Porch SF  Enclosed Porch   3Ssn Porch  \\\n",
       "count  ...   2051.000000    2051.000000     2051.000000  2051.000000   \n",
       "mean   ...     93.833740      47.556802       22.571916     2.591419   \n",
       "std    ...    128.549416      66.747241       59.845110    25.229615   \n",
       "min    ...      0.000000       0.000000        0.000000     0.000000   \n",
       "25%    ...      0.000000       0.000000        0.000000     0.000000   \n",
       "50%    ...      0.000000      27.000000        0.000000     0.000000   \n",
       "75%    ...    168.000000      70.000000        0.000000     0.000000   \n",
       "max    ...   1424.000000     547.000000      432.000000   508.000000   \n",
       "\n",
       "       Screen Porch    Pool Area      Misc Val      Mo Sold      Yr Sold  \\\n",
       "count   2051.000000  2051.000000   2051.000000  2051.000000  2051.000000   \n",
       "mean      16.511458     2.397855     51.574354     6.219893  2007.775719   \n",
       "std       57.374204    37.782570    573.393985     2.744736     1.312014   \n",
       "min        0.000000     0.000000      0.000000     1.000000  2006.000000   \n",
       "25%        0.000000     0.000000      0.000000     4.000000  2007.000000   \n",
       "50%        0.000000     0.000000      0.000000     6.000000  2008.000000   \n",
       "75%        0.000000     0.000000      0.000000     8.000000  2009.000000   \n",
       "max      490.000000   800.000000  17000.000000    12.000000  2010.000000   \n",
       "\n",
       "           SalePrice  \n",
       "count    2051.000000  \n",
       "mean   181469.701609  \n",
       "std     79258.659352  \n",
       "min     12789.000000  \n",
       "25%    129825.000000  \n",
       "50%    162500.000000  \n",
       "75%    214000.000000  \n",
       "max    611657.000000  \n",
       "\n",
       "[8 rows x 39 columns]"
      ]
     },
     "execution_count": 683,
     "metadata": {},
     "output_type": "execute_result"
    }
   ],
   "source": [
    "train_df.describe()"
   ]
  },
  {
   "cell_type": "markdown",
   "metadata": {},
   "source": [
    "Let's take a moment to consider what this description tells us.  Our Sale Price, for instance, is within a reasonable min and max for home sales: 12,789 up to 611,657.  No million dollar properties, here, but a decent spread.  The standard deviation of that same Sale Price value also speaks to the spread of sales represented:  most of the prices will fall between 102,211 and 260,727, which is an easily believable range for house pricing.  "
   ]
  },
  {
   "cell_type": "code",
   "execution_count": 684,
   "metadata": {},
   "outputs": [
    {
     "data": {
      "image/png": "[encoded data removed]",
      "text/plain": [
       "<Figure size 432x288 with 1 Axes>"
      ]
     },
     "metadata": {
      "needs_background": "light"
     },
     "output_type": "display_data"
    }
   ],
   "source": [
    "plt.hist(train_df['SalePrice']);"
   ]
  },
  {
   "cell_type": "markdown",
   "metadata": {},
   "source": [
    "Our target variable has a distribution that leans to the left.  This likely has to do with most houses in the dataset being of a certain value, "
   ]
  },
  {
   "cell_type": "code",
   "execution_count": 685,
   "metadata": {
    "scrolled": true
   },
   "outputs": [
    {
     "data": {
      "image/png": "[encoded data removed]",
      "text/plain": [
       "<Figure size 432x288 with 1 Axes>"
      ]
     },
     "metadata": {
      "needs_background": "light"
     },
     "output_type": "display_data"
    }
   ],
   "source": [
    "sns.boxplot(x=train_df['SalePrice']);"
   ]
  },
  {
   "cell_type": "markdown",
   "metadata": {},
   "source": [
    "That's a big crush of outliers on the right, there.  Let's look into those a little bit more.  "
   ]
  },
  {
   "cell_type": "code",
   "execution_count": 686,
   "metadata": {},
   "outputs": [],
   "source": [
    "#creating a variable to judge our high outliers by\n",
    "upper_limit = train_df['SalePrice'].mean() + ( 3 * train_df['SalePrice'].std())"
   ]
  },
  {
   "cell_type": "code",
   "execution_count": 687,
   "metadata": {},
   "outputs": [
    {
     "data": {
      "text/plain": [
       "(33, 81)"
      ]
     },
     "execution_count": 687,
     "metadata": {},
     "output_type": "execute_result"
    }
   ],
   "source": [
    "train_df[train_df['SalePrice'] > upper_limit].shape"
   ]
  },
  {
   "cell_type": "markdown",
   "metadata": {},
   "source": [
    "33 high outliers, judging by our Sale Price column.  That's about 1.6% of our whole dataset.  Small, but not infinitesimal.  Nonetheless, I do not believe these houses to be worth removing from the dataset, considering that home values can reach astronomical heights from time to time, and while these values are out of the norm of the dataset, I do not think them beyond what can be seen in terms of a larger population.  Removing them may improve the performance of the model on our own testing set, but the model would not be reflective of reality, and thus would likely not be as accurate in a general population.  "
   ]
  },
  {
   "cell_type": "markdown",
   "metadata": {},
   "source": [
    "## Cleaning up Nulls."
   ]
  },
  {
   "cell_type": "markdown",
   "metadata": {},
   "source": [
    "Going through, cleaning up stuff and figuring out where nulls are.  "
   ]
  },
  {
   "cell_type": "code",
   "execution_count": 688,
   "metadata": {},
   "outputs": [],
   "source": [
    "# make a function to give us the nulls by column, instead of this big pile of data"
   ]
  },
  {
   "cell_type": "code",
   "execution_count": 689,
   "metadata": {},
   "outputs": [
    {
     "name": "stdout",
     "output_type": "stream",
     "text": [
      "TRAIN NULLS\n",
      "Id 0\n",
      "PID 0\n",
      "MS SubClass 0\n",
      "MS Zoning 0\n",
      "Lot Frontage 330\n",
      "Lot Area 0\n",
      "Street 0\n",
      "Alley 1911\n",
      "Lot Shape 0\n",
      "Land Contour 0\n",
      "Utilities 0\n",
      "Lot Config 0\n",
      "Land Slope 0\n",
      "Neighborhood 0\n",
      "Condition 1 0\n",
      "Condition 2 0\n",
      "Bldg Type 0\n",
      "House Style 0\n",
      "Overall Qual 0\n",
      "Overall Cond 0\n",
      "Year Built 0\n",
      "Year Remod/Add 0\n",
      "Roof Style 0\n",
      "Roof Matl 0\n",
      "Exterior 1st 0\n",
      "Exterior 2nd 0\n",
      "Mas Vnr Type 22\n",
      "Mas Vnr Area 22\n",
      "Exter Qual 0\n",
      "Exter Cond 0\n",
      "Foundation 0\n",
      "Bsmt Qual 55\n",
      "Bsmt Cond 55\n",
      "Bsmt Exposure 58\n",
      "BsmtFin Type 1 55\n",
      "BsmtFin SF 1 1\n",
      "BsmtFin Type 2 56\n",
      "BsmtFin SF 2 1\n",
      "Bsmt Unf SF 1\n",
      "Total Bsmt SF 1\n",
      "Heating 0\n",
      "Heating QC 0\n",
      "Central Air 0\n",
      "Electrical 0\n",
      "1st Flr SF 0\n",
      "2nd Flr SF 0\n",
      "Low Qual Fin SF 0\n",
      "Gr Liv Area 0\n",
      "Bsmt Full Bath 2\n",
      "Bsmt Half Bath 2\n",
      "Full Bath 0\n",
      "Half Bath 0\n",
      "Bedroom AbvGr 0\n",
      "Kitchen AbvGr 0\n",
      "Kitchen Qual 0\n",
      "TotRms AbvGrd 0\n",
      "Functional 0\n",
      "Fireplaces 0\n",
      "Fireplace Qu 1000\n",
      "Garage Type 113\n",
      "Garage Yr Blt 114\n",
      "Garage Finish 114\n",
      "Garage Cars 1\n",
      "Garage Area 1\n",
      "Garage Qual 114\n",
      "Garage Cond 114\n",
      "Paved Drive 0\n",
      "Wood Deck SF 0\n",
      "Open Porch SF 0\n",
      "Enclosed Porch 0\n",
      "3Ssn Porch 0\n",
      "Screen Porch 0\n",
      "Pool Area 0\n",
      "Pool QC 2042\n",
      "Fence 1651\n",
      "Misc Feature 1986\n",
      "Misc Val 0\n",
      "Mo Sold 0\n",
      "Yr Sold 0\n",
      "Sale Type 0\n",
      "SalePrice 0\n",
      "\n",
      "TEST NULLS\n",
      "Id 0\n",
      "PID 0\n",
      "MS SubClass 0\n",
      "MS Zoning 0\n",
      "Lot Frontage 160\n",
      "Lot Area 0\n",
      "Street 0\n",
      "Alley 820\n",
      "Lot Shape 0\n",
      "Land Contour 0\n",
      "Utilities 0\n",
      "Lot Config 0\n",
      "Land Slope 0\n",
      "Neighborhood 0\n",
      "Condition 1 0\n",
      "Condition 2 0\n",
      "Bldg Type 0\n",
      "House Style 0\n",
      "Overall Qual 0\n",
      "Overall Cond 0\n",
      "Year Built 0\n",
      "Year Remod/Add 0\n",
      "Roof Style 0\n",
      "Roof Matl 0\n",
      "Exterior 1st 0\n",
      "Exterior 2nd 0\n",
      "Mas Vnr Type 1\n",
      "Mas Vnr Area 1\n",
      "Exter Qual 0\n",
      "Exter Cond 0\n",
      "Foundation 0\n",
      "Bsmt Qual 25\n",
      "Bsmt Cond 25\n",
      "Bsmt Exposure 25\n",
      "BsmtFin Type 1 25\n",
      "BsmtFin SF 1 0\n",
      "BsmtFin Type 2 25\n",
      "BsmtFin SF 2 0\n",
      "Bsmt Unf SF 0\n",
      "Total Bsmt SF 0\n",
      "Heating 0\n",
      "Heating QC 0\n",
      "Central Air 0\n",
      "Electrical 1\n",
      "1st Flr SF 0\n",
      "2nd Flr SF 0\n",
      "Low Qual Fin SF 0\n",
      "Gr Liv Area 0\n",
      "Bsmt Full Bath 0\n",
      "Bsmt Half Bath 0\n",
      "Full Bath 0\n",
      "Half Bath 0\n",
      "Bedroom AbvGr 0\n",
      "Kitchen AbvGr 0\n",
      "Kitchen Qual 0\n",
      "TotRms AbvGrd 0\n",
      "Functional 0\n",
      "Fireplaces 0\n",
      "Fireplace Qu 422\n",
      "Garage Type 44\n",
      "Garage Yr Blt 45\n",
      "Garage Finish 45\n",
      "Garage Cars 0\n",
      "Garage Area 0\n",
      "Garage Qual 45\n",
      "Garage Cond 45\n",
      "Paved Drive 0\n",
      "Wood Deck SF 0\n",
      "Open Porch SF 0\n",
      "Enclosed Porch 0\n",
      "3Ssn Porch 0\n",
      "Screen Porch 0\n",
      "Pool Area 0\n",
      "Pool QC 874\n",
      "Fence 706\n",
      "Misc Feature 837\n",
      "Misc Val 0\n",
      "Mo Sold 0\n",
      "Yr Sold 0\n",
      "Sale Type 0\n"
     ]
    }
   ],
   "source": [
    "train_nulls = train_df.isnull().sum().to_frame()\n",
    "test_nulls = test_df.isnull().sum().to_frame()\n",
    "print('TRAIN NULLS')\n",
    "for index, row in train_nulls.iterrows():\n",
    "    print(index, row[0])\n",
    "print('')\n",
    "print('TEST NULLS')\n",
    "for index, row in test_nulls.iterrows():\n",
    "    print(index, row[0])"
   ]
  },
  {
   "cell_type": "markdown",
   "metadata": {},
   "source": [
    "We've got a lot of nulls to work through.  Let's handle them bit by bit."
   ]
  },
  {
   "cell_type": "markdown",
   "metadata": {},
   "source": [
    "Changing all relevant ordinal values to numbers from 1-5, instead of their string values of EX-Po."
   ]
  },
  {
   "cell_type": "code",
   "execution_count": 690,
   "metadata": {},
   "outputs": [],
   "source": [
    "train_df.replace(['Ex','Go','TA','Fa','Po', 'Gd'], [5,4,3,2,1,4], inplace = True)\n",
    "test_df.replace(['Ex','Go','TA','Fa','Po', 'Gd'], [5,4,3,2,1,4], inplace = True)"
   ]
  },
  {
   "cell_type": "markdown",
   "metadata": {},
   "source": [
    "Putting 0 in missing ordinal values, as it is clear from the dictionary that those values are only missing because there is no garage/pool/fireplace/basement to score."
   ]
  },
  {
   "cell_type": "code",
   "execution_count": 691,
   "metadata": {},
   "outputs": [],
   "source": [
    "train_df['Pool QC'].fillna(0, inplace = True)\n",
    "test_df['Pool QC'].fillna(0, inplace = True)\n",
    "\n",
    "train_df['Garage Qual'].fillna(0, inplace = True)\n",
    "test_df['Garage Qual'].fillna(0, inplace = True)\n",
    "\n",
    "train_df['Garage Cond'].fillna(0, inplace = True)\n",
    "test_df['Garage Cond'].fillna(0,inplace = True)\n",
    "\n",
    "train_df['Fireplace Qu'].fillna(0, inplace = True)\n",
    "test_df['Fireplace Qu'].fillna(0, inplace = True)\n",
    "\n",
    "train_df['Bsmt Cond'].fillna(0, inplace = True)\n",
    "test_df['Bsmt Cond'].fillna(0, inplace = True)\n",
    "\n",
    "train_df['Bsmt Qual'].fillna(0, inplace = True)\n",
    "test_df['Bsmt Qual'].fillna(0, inplace = True)"
   ]
  },
  {
   "cell_type": "markdown",
   "metadata": {},
   "source": [
    "One hot encoding the masonry veneer column."
   ]
  },
  {
   "cell_type": "code",
   "execution_count": null,
   "metadata": {},
   "outputs": [],
   "source": [
    "train_df = train_df.join(pd.get_dummies(data = train_df['Mas Vnr Type'], prefix = 'mas'))\n",
    "test_df = test_df.join(pd.get_dummies(data = test_df['Mas Vnr Type'], prefix = 'mas'))\n",
    "train_df.drop(columns = ['mas_None', 'Mas Vnr Type'], inplace = True)\n",
    "test_df.drop(columns = ['mas_None', 'Mas Vnr Type'], inplace = True)"
   ]
  },
  {
   "cell_type": "markdown",
   "metadata": {},
   "source": [
    "Renaming everything to snake_case."
   ]
  },
  {
   "cell_type": "code",
   "execution_count": 693,
   "metadata": {},
   "outputs": [],
   "source": [
    "train_df.columns = [column_name.replace(' ', '_').lower() for column_name in train_df.columns]\n",
    "test_df.columns = [column_name.replace(' ', '_').lower() for column_name in test_df.columns]"
   ]
  },
  {
   "cell_type": "code",
   "execution_count": 694,
   "metadata": {},
   "outputs": [
    {
     "data": {
      "text/plain": [
       "Index(['id', 'pid', 'ms_subclass', 'ms_zoning', 'lot_frontage', 'lot_area',\n",
       "       'street', 'alley', 'lot_shape', 'land_contour', 'utilities',\n",
       "       'lot_config', 'land_slope', 'neighborhood', 'condition_1',\n",
       "       'condition_2', 'bldg_type', 'house_style', 'overall_qual',\n",
       "       'overall_cond', 'year_built', 'year_remod/add', 'roof_style',\n",
       "       'roof_matl', 'exterior_1st', 'exterior_2nd', 'mas_vnr_area',\n",
       "       'exter_qual', 'exter_cond', 'foundation', 'bsmt_qual', 'bsmt_cond',\n",
       "       'bsmt_exposure', 'bsmtfin_type_1', 'bsmtfin_sf_1', 'bsmtfin_type_2',\n",
       "       'bsmtfin_sf_2', 'bsmt_unf_sf', 'total_bsmt_sf', 'heating', 'heating_qc',\n",
       "       'central_air', 'electrical', '1st_flr_sf', '2nd_flr_sf',\n",
       "       'low_qual_fin_sf', 'gr_liv_area', 'bsmt_full_bath', 'bsmt_half_bath',\n",
       "       'full_bath', 'half_bath', 'bedroom_abvgr', 'kitchen_abvgr',\n",
       "       'kitchen_qual', 'totrms_abvgrd', 'functional', 'fireplaces',\n",
       "       'fireplace_qu', 'garage_type', 'garage_yr_blt', 'garage_finish',\n",
       "       'garage_cars', 'garage_area', 'garage_qual', 'garage_cond',\n",
       "       'paved_drive', 'wood_deck_sf', 'open_porch_sf', 'enclosed_porch',\n",
       "       '3ssn_porch', 'screen_porch', 'pool_area', 'pool_qc', 'fence',\n",
       "       'misc_feature', 'misc_val', 'mo_sold', 'yr_sold', 'sale_type',\n",
       "       'saleprice', 'mas_brkcmn', 'mas_brkface', 'mas_stone'],\n",
       "      dtype='object')"
      ]
     },
     "execution_count": 694,
     "metadata": {},
     "output_type": "execute_result"
    }
   ],
   "source": [
    "train_df.columns"
   ]
  },
  {
   "cell_type": "markdown",
   "metadata": {},
   "source": [
    "Getting rid of a bunch of columns that, for now, are too much work for me to handle.  Gonna operate on just these few, and that should be enough to get us a good model."
   ]
  },
  {
   "cell_type": "code",
   "execution_count": 695,
   "metadata": {},
   "outputs": [],
   "source": [
    "#think it's actually more economical to filter like this, as opposed to doing 'drop,', as I'm keeping less than half.\n",
    "train_df = train_df.filter(['id',\n",
    "                            'lot_frontage',\n",
    "                            'lot_area',\n",
    "                            'overall_qual',\n",
    "                            'overall_cond',\n",
    "                            'year_built',\n",
    "                            'year_remod/add',\n",
    "                            'bsmt_qual',\n",
    "                            'bsmt_cond',\n",
    "                            'total_bsmt_sf',\n",
    "                            '1st_flr_sf',\n",
    "                            '2nd_flr_sf',\n",
    "                            'low_qual_fin_sf',\n",
    "                            'bsmt_full_bath',\n",
    "                            'bsmt_half_bath',\n",
    "                            'full_bath', \n",
    "                            'half_bath', \n",
    "                            'bedroom_abvgr',\n",
    "                            'kitchen_abvgr', \n",
    "                            'kitchen_qual',\n",
    "                            'totrms_abvgrd',\n",
    "                            'fireplaces',\n",
    "                            'fireplace_qu',\n",
    "                            'garage_yr_built',\n",
    "                            'garage_cars',\n",
    "                            'garage_area',\n",
    "                            'garage_qual',\n",
    "                            'garage_cond',\n",
    "                            'wood_deck_sf',\n",
    "                            'open_porch_sf',\n",
    "                            'enclosed_porch',\n",
    "                            '3ssn_porch',\n",
    "                            'screen_porch',\n",
    "                            'pool_area',\n",
    "                            'pool_qc',\n",
    "                            'saleprice',\n",
    "                           'mas_brkcmn',\n",
    "                           'mas_brkface',\n",
    "                           'mas_stone'],\n",
    "                           axis = 1)"
   ]
  },
  {
   "cell_type": "code",
   "execution_count": 696,
   "metadata": {
    "scrolled": true
   },
   "outputs": [
    {
     "data": {
      "text/plain": [
       "(2051, 38)"
      ]
     },
     "execution_count": 696,
     "metadata": {},
     "output_type": "execute_result"
    }
   ],
   "source": [
    "train_df.shape"
   ]
  },
  {
   "cell_type": "code",
   "execution_count": 697,
   "metadata": {},
   "outputs": [
    {
     "data": {
      "text/plain": [
       "id                   0\n",
       "lot_frontage       330\n",
       "lot_area             0\n",
       "overall_qual         0\n",
       "overall_cond         0\n",
       "year_built           0\n",
       "year_remod/add       0\n",
       "bsmt_qual            0\n",
       "bsmt_cond            0\n",
       "total_bsmt_sf        1\n",
       "1st_flr_sf           0\n",
       "2nd_flr_sf           0\n",
       "low_qual_fin_sf      0\n",
       "bsmt_full_bath       2\n",
       "bsmt_half_bath       2\n",
       "full_bath            0\n",
       "half_bath            0\n",
       "bedroom_abvgr        0\n",
       "kitchen_abvgr        0\n",
       "kitchen_qual         0\n",
       "totrms_abvgrd        0\n",
       "fireplaces           0\n",
       "fireplace_qu         0\n",
       "garage_cars          1\n",
       "garage_area          1\n",
       "garage_qual          0\n",
       "garage_cond          0\n",
       "wood_deck_sf         0\n",
       "open_porch_sf        0\n",
       "enclosed_porch       0\n",
       "3ssn_porch           0\n",
       "screen_porch         0\n",
       "pool_area            0\n",
       "pool_qc              0\n",
       "saleprice            0\n",
       "mas_brkcmn           0\n",
       "mas_brkface          0\n",
       "mas_stone            0\n",
       "dtype: int64"
      ]
     },
     "execution_count": 697,
     "metadata": {},
     "output_type": "execute_result"
    }
   ],
   "source": [
    "train_df.isna().sum()"
   ]
  },
  {
   "cell_type": "code",
   "execution_count": 698,
   "metadata": {},
   "outputs": [],
   "source": [
    "train_df.fillna(0,inplace = True)\n",
    "\n",
    "test_df.fillna(0, inplace = True)"
   ]
  },
  {
   "cell_type": "markdown",
   "metadata": {},
   "source": [
    "Fixing nulls!  Justifying these as, again, if it's a 0 it means there isn't one at all.  Having no street frontage for the house is the same as having 0. "
   ]
  },
  {
   "cell_type": "code",
   "execution_count": 699,
   "metadata": {},
   "outputs": [
    {
     "data": {
      "text/plain": [
       "id                 0\n",
       "lot_frontage       0\n",
       "lot_area           0\n",
       "overall_qual       0\n",
       "overall_cond       0\n",
       "year_built         0\n",
       "year_remod/add     0\n",
       "bsmt_qual          0\n",
       "bsmt_cond          0\n",
       "total_bsmt_sf      0\n",
       "1st_flr_sf         0\n",
       "2nd_flr_sf         0\n",
       "low_qual_fin_sf    0\n",
       "bsmt_full_bath     0\n",
       "bsmt_half_bath     0\n",
       "full_bath          0\n",
       "half_bath          0\n",
       "bedroom_abvgr      0\n",
       "kitchen_abvgr      0\n",
       "kitchen_qual       0\n",
       "totrms_abvgrd      0\n",
       "fireplaces         0\n",
       "fireplace_qu       0\n",
       "garage_cars        0\n",
       "garage_area        0\n",
       "garage_qual        0\n",
       "garage_cond        0\n",
       "wood_deck_sf       0\n",
       "open_porch_sf      0\n",
       "enclosed_porch     0\n",
       "3ssn_porch         0\n",
       "screen_porch       0\n",
       "pool_area          0\n",
       "pool_qc            0\n",
       "saleprice          0\n",
       "mas_brkcmn         0\n",
       "mas_brkface        0\n",
       "mas_stone          0\n",
       "dtype: int64"
      ]
     },
     "execution_count": 699,
     "metadata": {},
     "output_type": "execute_result"
    }
   ],
   "source": [
    "train_df.isna().sum()"
   ]
  },
  {
   "cell_type": "code",
   "execution_count": 700,
   "metadata": {},
   "outputs": [
    {
     "data": {
      "text/plain": [
       "id                   int64\n",
       "lot_frontage       float64\n",
       "lot_area             int64\n",
       "overall_qual         int64\n",
       "overall_cond         int64\n",
       "year_built           int64\n",
       "year_remod/add       int64\n",
       "bsmt_qual          float64\n",
       "bsmt_cond          float64\n",
       "total_bsmt_sf      float64\n",
       "1st_flr_sf           int64\n",
       "2nd_flr_sf           int64\n",
       "low_qual_fin_sf      int64\n",
       "bsmt_full_bath     float64\n",
       "bsmt_half_bath     float64\n",
       "full_bath            int64\n",
       "half_bath            int64\n",
       "bedroom_abvgr        int64\n",
       "kitchen_abvgr        int64\n",
       "kitchen_qual         int64\n",
       "totrms_abvgrd        int64\n",
       "fireplaces           int64\n",
       "fireplace_qu       float64\n",
       "garage_cars        float64\n",
       "garage_area        float64\n",
       "garage_qual        float64\n",
       "garage_cond        float64\n",
       "wood_deck_sf         int64\n",
       "open_porch_sf        int64\n",
       "enclosed_porch       int64\n",
       "3ssn_porch           int64\n",
       "screen_porch         int64\n",
       "pool_area            int64\n",
       "pool_qc            float64\n",
       "saleprice            int64\n",
       "mas_brkcmn           uint8\n",
       "mas_brkface          uint8\n",
       "mas_stone            uint8\n",
       "dtype: object"
      ]
     },
     "execution_count": 700,
     "metadata": {},
     "output_type": "execute_result"
    }
   ],
   "source": [
    "train_df.dtypes"
   ]
  },
  {
   "cell_type": "markdown",
   "metadata": {},
   "source": [
    "No nulls!  All numbers!  Good for now.  Let's start some feature engineering.  As of now, with the model below, I've got a Kaggle score of 38363.  Let's make that a little better with some more features."
   ]
  },
  {
   "cell_type": "markdown",
   "metadata": {},
   "source": [
    "## Feature Engineering\n",
    "\n"
   ]
  },
  {
   "cell_type": "markdown",
   "metadata": {},
   "source": [
    "Running a pairplot on my 37 columns here would both brick my notebook and take up far too much screen space to be practical.  So I'm selecting features, based on the data dictionary's description, by hand to create valuable interaction terms."
   ]
  },
  {
   "cell_type": "code",
   "execution_count": 701,
   "metadata": {
    "scrolled": true
   },
   "outputs": [
    {
     "data": {
      "text/plain": [
       "<matplotlib.collections.PathCollection at 0x7f89cce1f970>"
      ]
     },
     "execution_count": 701,
     "metadata": {},
     "output_type": "execute_result"
    },
    {
     "data": {
      "image/png": "[encoded data removed]",
      "text/plain": [
       "<Figure size 432x288 with 1 Axes>"
      ]
     },
     "metadata": {
      "needs_background": "light"
     },
     "output_type": "display_data"
    }
   ],
   "source": [
    "plt.xlabel('Year Built to Quality')\n",
    "plt.scatter(train_df['year_built'], train_df['overall_qual'])"
   ]
  },
  {
   "cell_type": "markdown",
   "metadata": {},
   "source": [
    "Hmm, seems like there's a decent relationship between age and quality.  Let's make an interaction term of that, and at least one more."
   ]
  },
  {
   "cell_type": "code",
   "execution_count": 702,
   "metadata": {},
   "outputs": [],
   "source": [
    "train_df['year_built * overall_qual'] = train_df['year_built']*train_df['overall_qual']\n",
    "test_df['year_built * overall_qual'] = test_df['year_built']*test_df['overall_qual']"
   ]
  },
  {
   "cell_type": "code",
   "execution_count": 703,
   "metadata": {
    "scrolled": true
   },
   "outputs": [
    {
     "data": {
      "image/png": "[encoded data removed]",
      "text/plain": [
       "<Figure size 432x288 with 1 Axes>"
      ]
     },
     "metadata": {
      "needs_background": "light"
     },
     "output_type": "display_data"
    }
   ],
   "source": [
    "plt.xlabel('total rooms above ground')\n",
    "plt.ylabel('overall quality')\n",
    "plt.scatter(train_df['totrms_abvgrd'],train_df['overall_qual']);"
   ]
  },
  {
   "cell_type": "markdown",
   "metadata": {},
   "source": [
    "Sweet.  Looks like the more rooms we have above ground, the better our overall quality score is."
   ]
  },
  {
   "cell_type": "code",
   "execution_count": 704,
   "metadata": {},
   "outputs": [],
   "source": [
    "train_df['totrms_abvgrd * overall_qual'] = train_df['totrms_abvgrd'] * train_df['overall_qual']\n",
    "test_df['totrms_abvgrd * overall_qual'] = test_df['totrms_abvgrd'] * test_df['overall_qual']"
   ]
  },
  {
   "cell_type": "code",
   "execution_count": 705,
   "metadata": {},
   "outputs": [
    {
     "data": {
      "text/plain": [
       "(2051, 40)"
      ]
     },
     "execution_count": 705,
     "metadata": {},
     "output_type": "execute_result"
    }
   ],
   "source": [
    "train_df.shape"
   ]
  },
  {
   "cell_type": "markdown",
   "metadata": {},
   "source": [
    "Feature engineering complete!  I fear further adding interaction terms as columns will create too much noise, so I'm stopping with these two. "
   ]
  },
  {
   "cell_type": "markdown",
   "metadata": {},
   "source": [
    "## Let's build a model"
   ]
  },
  {
   "cell_type": "code",
   "execution_count": 706,
   "metadata": {},
   "outputs": [],
   "source": [
    "X = train_df.drop(columns = ['id','saleprice'])\n",
    "features = list(X.columns)\n",
    "y = train_df['saleprice']"
   ]
  },
  {
   "cell_type": "code",
   "execution_count": 707,
   "metadata": {},
   "outputs": [],
   "source": [
    "X_train, X_test, y_train, y_test = train_test_split(X,y)"
   ]
  },
  {
   "cell_type": "code",
   "execution_count": 708,
   "metadata": {},
   "outputs": [],
   "source": [
    "ss = StandardScaler()"
   ]
  },
  {
   "cell_type": "markdown",
   "metadata": {},
   "source": [
    "Building our linear regression model.  KISS(Keep it simple, stupid) seems to have been the rule here.  Scaling my features, applying a logistic regression, none of that provided a better score than the simple linear regression model built below."
   ]
  },
  {
   "cell_type": "code",
   "execution_count": 709,
   "metadata": {},
   "outputs": [],
   "source": [
    "X_train_sc = ss.fit_transform(X_train)\n",
    "X_test_sc = ss.transform(X_test)"
   ]
  },
  {
   "cell_type": "code",
   "execution_count": 779,
   "metadata": {},
   "outputs": [
    {
     "name": "stderr",
     "output_type": "stream",
     "text": [
      "/Users/bramblepatch/opt/anaconda3/lib/python3.8/site-packages/sklearn/linear_model/_coordinate_descent.py:529: ConvergenceWarning: Objective did not converge. You might want to increase the number of iterations. Duality gap: 750391534623.8231, tolerance: 956552840.0605719\n",
      "  model = cd_fast.enet_coordinate_descent(\n"
     ]
    },
    {
     "data": {
      "text/plain": [
       "Ridge(alpha=1)"
      ]
     },
     "execution_count": 779,
     "metadata": {},
     "output_type": "execute_result"
    }
   ],
   "source": [
    "lr = LinearRegression()\n",
    "lr.fit(X_train, y_train)\n",
    "scaled_lr = LinearRegression()\n",
    "scaled_lr.fit(X_train_sc, y_train)\n",
    "lasso_reg = Lasso(alpha = 1)\n",
    "lasso_reg.fit(X_train_sc, y_train)\n",
    "ridge_reg = Ridge(alpha = 1)\n",
    "ridge_reg.fit(X_train_sc, y_train)"
   ]
  },
  {
   "cell_type": "code",
   "execution_count": 737,
   "metadata": {},
   "outputs": [],
   "source": [
    "pred = lr.predict(X_test)\n",
    "residuals = y_test - pred\n",
    "scaled_pred = scaled_lr.predict(X_test_sc)\n",
    "scaled_resids = y_test - scaled_pred\n",
    "lasso_pred = lasso_reg.predict(X_test_sc)\n",
    "lasso_resids = y_test - lasso_pred\n",
    "ridge_pred = ridge_reg.predict(X_test_sc)\n",
    "ridge_resids = y_test - ridge_pred"
   ]
  },
  {
   "cell_type": "code",
   "execution_count": 736,
   "metadata": {
    "scrolled": true
   },
   "outputs": [
    {
     "data": {
      "text/plain": [
       "<AxesSubplot:>"
      ]
     },
     "execution_count": 736,
     "metadata": {},
     "output_type": "execute_result"
    },
    {
     "data": {
      "image/png": "[encoded data removed]",
      "text/plain": [
       "<Figure size 432x288 with 1 Axes>"
      ]
     },
     "metadata": {
      "needs_background": "light"
     },
     "output_type": "display_data"
    }
   ],
   "source": [
    "y.hist()"
   ]
  },
  {
   "cell_type": "code",
   "execution_count": 713,
   "metadata": {},
   "outputs": [
    {
     "data": {
      "image/png": "[encoded data removed]",
      "text/plain": [
       "<Figure size 432x288 with 1 Axes>"
      ]
     },
     "metadata": {
      "needs_background": "light"
     },
     "output_type": "display_data"
    }
   ],
   "source": [
    "plt.hist(residuals, bins = 100, range = (-200_000, 200_000));"
   ]
  },
  {
   "cell_type": "code",
   "execution_count": 714,
   "metadata": {},
   "outputs": [
    {
     "data": {
      "image/png": "[encoded data removed]",
      "text/plain": [
       "<Figure size 432x288 with 1 Axes>"
      ]
     },
     "metadata": {
      "needs_background": "light"
     },
     "output_type": "display_data"
    }
   ],
   "source": [
    "plt.hist(scaled_resids, bins = 100, range = (-200_000, 200_000));"
   ]
  },
  {
   "cell_type": "code",
   "execution_count": 738,
   "metadata": {},
   "outputs": [
    {
     "data": {
      "image/png": "[encoded data removed]",
      "text/plain": [
       "<Figure size 432x288 with 1 Axes>"
      ]
     },
     "metadata": {
      "needs_background": "light"
     },
     "output_type": "display_data"
    }
   ],
   "source": [
    "plt.hist(lasso_resids, bins = 100, range = (-200_000, 200_000));"
   ]
  },
  {
   "cell_type": "code",
   "execution_count": 739,
   "metadata": {},
   "outputs": [
    {
     "data": {
      "image/png": "[encoded data removed]",
      "text/plain": [
       "<Figure size 432x288 with 1 Axes>"
      ]
     },
     "metadata": {
      "needs_background": "light"
     },
     "output_type": "display_data"
    }
   ],
   "source": [
    "plt.hist(ridge_resids, bins = 100, range = (-200_000, 200_000));"
   ]
  },
  {
   "cell_type": "markdown",
   "metadata": {},
   "source": [
    "A rather normal distribution of residuals."
   ]
  },
  {
   "cell_type": "code",
   "execution_count": 715,
   "metadata": {},
   "outputs": [
    {
     "data": {
      "image/png": "[encoded data removed]",
      "text/plain": [
       "<Figure size 432x288 with 1 Axes>"
      ]
     },
     "metadata": {
      "needs_background": "light"
     },
     "output_type": "display_data"
    }
   ],
   "source": [
    "plt.scatter(pred, residuals);"
   ]
  },
  {
   "cell_type": "code",
   "execution_count": 716,
   "metadata": {
    "scrolled": true
   },
   "outputs": [
    {
     "data": {
      "text/plain": [
       "<matplotlib.collections.PathCollection at 0x7f89cd982be0>"
      ]
     },
     "execution_count": 716,
     "metadata": {},
     "output_type": "execute_result"
    },
    {
     "data": {
      "image/png": "[encoded data removed]",
      "text/plain": [
       "<Figure size 432x288 with 1 Axes>"
      ]
     },
     "metadata": {
      "needs_background": "light"
     },
     "output_type": "display_data"
    }
   ],
   "source": [
    "plt.scatter(scaled_pred, scaled_resids)"
   ]
  },
  {
   "cell_type": "markdown",
   "metadata": {},
   "source": [
    "Quite homescedastic, and quite unbiased as well!  Looks quite nice."
   ]
  },
  {
   "cell_type": "code",
   "execution_count": 752,
   "metadata": {},
   "outputs": [
    {
     "data": {
      "text/plain": [
       "0.0"
      ]
     },
     "execution_count": 752,
     "metadata": {},
     "output_type": "execute_result"
    }
   ],
   "source": [
    "dummy_reg = DummyRegressor()\n",
    "dummy_reg.fit(X, y)\n",
    "\n",
    "dummy_reg.score(X,y)"
   ]
  },
  {
   "cell_type": "markdown",
   "metadata": {},
   "source": [
    "Pretty terrible baseline there.  It doesn't make an accurate prediction ever!  We shouldn't struggle to perform better than it, but let's hope it does much, much better."
   ]
  },
  {
   "cell_type": "code",
   "execution_count": 788,
   "metadata": {
    "scrolled": true
   },
   "outputs": [
    {
     "name": "stdout",
     "output_type": "stream",
     "text": [
      "The training Linear Regression r2 score is: 0.8447028801992335\n",
      "The testing Linear Regression r2 score is: 0.8747467624121236\n",
      "The testing Linear Regression Mean Absolute Error is: 19469.803394790826\n",
      "The training scaled Linear Regression r2 score is: 0.8447028801992332\n",
      "The testing scaled Linear Regression r2 score is: 0.8747467624119446\n",
      "The testing scaled Linear Regression Mean Absolute Error is: 19469.803394790655\n",
      "The training Lasso Regression r2 score is: 0.8385558248168448\n",
      "The testing Lasso Regression r2 score is: 0.8688211162211154\n",
      "The testing Lasso Regression Mean Absolute Error is: 20165.395243672065\n",
      "The training Ridge Regression r2 score is: 0.8388086719317693\n",
      "The testing Ridge Regression r2 score is: 0.8690106844257188\n",
      "The testing Ridge Regression Mean Absolute Error is: 20032.47547635452\n"
     ]
    }
   ],
   "source": [
    "print(f'The training Linear Regression r2 score is: {lr.score(X_train, y_train)}')\n",
    "\n",
    "print(f'The testing Linear Regression r2 score is: {lr.score(X_test, y_test)}')\n",
    "\n",
    "print(f'The testing Linear Regression Mean Absolute Error is: {metrics.mean_absolute_error(y_test, pred)}')\n",
    "\n",
    "print(f'The training scaled Linear Regression r2 score is: {scaled_lr.score(X_train_sc, y_train)}')\n",
    "\n",
    "print(f'The testing scaled Linear Regression r2 score is: {scaled_lr.score(X_test_sc, y_test)}')\n",
    "\n",
    "print(f'The testing scaled Linear Regression Mean Absolute Error is: {metrics.mean_absolute_error(y_test, scaled_pred)}')\n",
    "\n",
    "print(f'The training Lasso Regression r2 score is: {lasso_reg.score(X_train_sc, y_train)}')\n",
    "\n",
    "print(f'The testing Lasso Regression r2 score is: {lasso_reg.score(X_test_sc, y_test)}')\n",
    "\n",
    "print(f'The testing Lasso Regression Mean Absolute Error is: {metrics.mean_absolute_error(y_test, lasso_pred)}')\n",
    "\n",
    "print(f'The training Ridge Regression r2 score is: {ridge_reg.score(X_train_sc, y_train)}')\n",
    "\n",
    "print(f'The testing Ridge Regression r2 score is: {ridge_reg.score(X_test_sc, y_test)}')\n",
    "\n",
    "print(f'The testing Ridge Regression Mean Absolute Error is: {metrics.mean_absolute_error(y_test, ridge_pred)}')"
   ]
  },
  {
   "cell_type": "markdown",
   "metadata": {},
   "source": [
    "Of all these, the base linear regression, unscaled, has the best r2 score, and the best MAE score (even if that MAE is about 19,000 dollars off on average)!  The model takes in features that I found to be the most compelling of those listed in the data dictionary, and clearly shows the relationship between those features and the target feature, sale price."
   ]
  },
  {
   "cell_type": "markdown",
   "metadata": {},
   "source": [
    "Let's take a look at all our coefficients, nicely sorted with their corresponding feature."
   ]
  },
  {
   "cell_type": "code",
   "execution_count": 814,
   "metadata": {},
   "outputs": [
    {
     "data": {
      "text/plain": [
       "{'lot_frontage': 22.04803513218101,\n",
       " 'lot_area': 0.7196731376874175,\n",
       " 'overall_qual': -393236.2369617705,\n",
       " 'overall_cond': 6998.238976914328,\n",
       " 'year_built': -880.9744560371165,\n",
       " 'year_remod/add': -41.795913253074474,\n",
       " 'bsmt_qual': 7814.938227667146,\n",
       " 'bsmt_cond': -4124.610029672267,\n",
       " 'total_bsmt_sf': -1.8027274564325344,\n",
       " '1st_flr_sf': 49.27021482814531,\n",
       " '2nd_flr_sf': 29.284913188538486,\n",
       " 'low_qual_fin_sf': 28.416816803309445,\n",
       " 'bsmt_full_bath': 13767.025479781096,\n",
       " 'bsmt_half_bath': -1613.8769814680095,\n",
       " 'full_bath': 3936.1658489715232,\n",
       " 'half_bath': 932.0265787052958,\n",
       " 'bedroom_abvgr': 1184.4089866703887,\n",
       " 'kitchen_abvgr': -8036.939972109599,\n",
       " 'kitchen_qual': 12382.819856592978,\n",
       " 'totrms_abvgrd': -10811.656498762042,\n",
       " 'fireplaces': 2460.2089197670334,\n",
       " 'fireplace_qu': 2461.1655223076873,\n",
       " 'garage_cars': 4701.480960133829,\n",
       " 'garage_area': 22.43872473900278,\n",
       " 'garage_qual': 3465.498235905956,\n",
       " 'garage_cond': -5793.188876759508,\n",
       " 'wood_deck_sf': 20.724729448628583,\n",
       " 'open_porch_sf': -15.7616157364132,\n",
       " 'enclosed_porch': 15.825281893322297,\n",
       " '3ssn_porch': 57.31155142848745,\n",
       " 'screen_porch': 95.22413380743335,\n",
       " 'pool_area': 4.992751351657243,\n",
       " 'pool_qc': -22384.229946888354,\n",
       " 'mas_brkcmn': -12795.813166105467,\n",
       " 'mas_brkface': 223.66342682572505,\n",
       " 'mas_stone': 1662.7888120445327,\n",
       " 'year_built * overall_qual': 201.68873163895037,\n",
       " 'totrms_abvgrd * overall_qual': 1912.907291888641}"
      ]
     },
     "execution_count": 814,
     "metadata": {},
     "output_type": "execute_result"
    }
   ],
   "source": [
    "{key:value for key, value in zip(np.array(X.columns), np.array(lr.coef_))}"
   ]
  },
  {
   "cell_type": "code",
   "execution_count": 724,
   "metadata": {},
   "outputs": [
    {
     "data": {
      "text/plain": [
       "lot_frontage                    0\n",
       "lot_area                        0\n",
       "overall_qual                    0\n",
       "overall_cond                    0\n",
       "year_built                      0\n",
       "year_remod/add                  0\n",
       "bsmt_qual                       0\n",
       "bsmt_cond                       0\n",
       "total_bsmt_sf                   0\n",
       "1st_flr_sf                      0\n",
       "2nd_flr_sf                      0\n",
       "low_qual_fin_sf                 0\n",
       "bsmt_full_bath                  0\n",
       "bsmt_half_bath                  0\n",
       "full_bath                       0\n",
       "half_bath                       0\n",
       "bedroom_abvgr                   0\n",
       "kitchen_abvgr                   0\n",
       "kitchen_qual                    0\n",
       "totrms_abvgrd                   0\n",
       "fireplaces                      0\n",
       "fireplace_qu                    0\n",
       "garage_cars                     0\n",
       "garage_area                     0\n",
       "garage_qual                     0\n",
       "garage_cond                     0\n",
       "wood_deck_sf                    0\n",
       "open_porch_sf                   0\n",
       "enclosed_porch                  0\n",
       "3ssn_porch                      0\n",
       "screen_porch                    0\n",
       "pool_area                       0\n",
       "pool_qc                         0\n",
       "mas_brkcmn                      0\n",
       "mas_brkface                     0\n",
       "mas_stone                       0\n",
       "year_built * overall_qual       0\n",
       "totrms_abvgrd * overall_qual    0\n",
       "dtype: int64"
      ]
     },
     "execution_count": 724,
     "metadata": {},
     "output_type": "execute_result"
    }
   ],
   "source": [
    "test_df[features].isnull().sum()"
   ]
  },
  {
   "cell_type": "code",
   "execution_count": 725,
   "metadata": {},
   "outputs": [],
   "source": [
    "test_pred = lr.predict(test_df[features])\n",
    "\n",
    "test_df['SalePrice'] = test_pred\n",
    "\n",
    "test_df[['id', 'SalePrice']].to_csv('submission.csv', index=False)"
   ]
  },
  {
   "cell_type": "markdown",
   "metadata": {},
   "source": [
    "Model built, and submitted to kaggle!"
   ]
  },
  {
   "cell_type": "markdown",
   "metadata": {},
   "source": [
    "## Visualization Time!"
   ]
  },
  {
   "cell_type": "markdown",
   "metadata": {},
   "source": [
    "This is a bit of a gimme, but let's see what the relationship between overall quality of a property and it's sale price is!"
   ]
  },
  {
   "cell_type": "code",
   "execution_count": 726,
   "metadata": {},
   "outputs": [
    {
     "data": {
      "image/png": "[encoded data removed]",
      "text/plain": [
       "<Figure size 720x576 with 1 Axes>"
      ]
     },
     "metadata": {
      "needs_background": "light"
     },
     "output_type": "display_data"
    }
   ],
   "source": [
    "plt.figure(figsize=(10,8))\n",
    "plt.title('Property Quality to Sale Price')\n",
    "plt.xlabel('Overall Quality Score')\n",
    "plt.ylabel('Sale Price (USD)')\n",
    "plt.scatter(train_df['overall_qual'], train_df['saleprice']);"
   ]
  },
  {
   "cell_type": "markdown",
   "metadata": {},
   "source": [
    "Like I said, a gimme.  Of course the quality of a property will increase how much it sells for!  But maybe we can see some interesting correlations between property quality and other features of our dataset."
   ]
  },
  {
   "cell_type": "markdown",
   "metadata": {},
   "source": [
    "How about lot frontage to sale price?"
   ]
  },
  {
   "cell_type": "code",
   "execution_count": 728,
   "metadata": {
    "scrolled": false
   },
   "outputs": [
    {
     "data": {
      "image/png": "[encoded data removed]",
      "text/plain": [
       "<Figure size 720x576 with 1 Axes>"
      ]
     },
     "metadata": {
      "needs_background": "light"
     },
     "output_type": "display_data"
    }
   ],
   "source": [
    "frontage_lr = LinearRegression()\n",
    "frontage_lr.fit(np.array(train_df['lot_frontage']).reshape(-1,1), train_df['saleprice'])\n",
    "\n",
    "plt.figure(figsize=(10,8))\n",
    "plt.title('Frontage to Price')\n",
    "plt.xlabel('Lot Frontage (in Feet)')\n",
    "plt.ylabel('Sale Price (in USD)')\n",
    "plt.plot(train_df['lot_frontage'], frontage_lr.coef_[0] * train_df['lot_frontage'] + frontage_lr.intercept_)\n",
    "plt.scatter(train_df['lot_frontage'], train_df['saleprice']);"
   ]
  },
  {
   "cell_type": "markdown",
   "metadata": {},
   "source": [
    "A weird blob, but there is a line to follow here."
   ]
  },
  {
   "cell_type": "code",
   "execution_count": 729,
   "metadata": {},
   "outputs": [
    {
     "data": {
      "image/png": "[encoded data removed]",
      "text/plain": [
       "<Figure size 720x576 with 1 Axes>"
      ]
     },
     "metadata": {
      "needs_background": "light"
     },
     "output_type": "display_data"
    }
   ],
   "source": [
    "plt.figure(figsize=(10,8))\n",
    "plt.title('Area to Price')\n",
    "plt.xlabel('Sale Price (in USD)')\n",
    "plt.ylabel('Lot Area (in square feet)')\n",
    "plt.scatter(train_df['saleprice'], train_df['lot_area'], alpha = 0.1);"
   ]
  },
  {
   "cell_type": "markdown",
   "metadata": {},
   "source": [
    "A very interesting graph, that show a serious concentration in the bottom left.  "
   ]
  },
  {
   "cell_type": "markdown",
   "metadata": {},
   "source": [
    "Since we're looking at this problem from the perspective of a homeowner, let's look at features that a person could feasibly renovate.  Garage quality and condition, for example."
   ]
  },
  {
   "cell_type": "code",
   "execution_count": 730,
   "metadata": {
    "scrolled": false
   },
   "outputs": [
    {
     "data": {
      "image/png": "[encoded data removed]",
      "text/plain": [
       "<Figure size 432x288 with 2 Axes>"
      ]
     },
     "metadata": {
      "needs_background": "light"
     },
     "output_type": "display_data"
    }
   ],
   "source": [
    "plt.subplot(2,1,1)\n",
    "plt.title('Garage Condition to Price')\n",
    "plt.xlabel('Garage Condition')\n",
    "plt.ylabel('Sale Price (in USD)')\n",
    "plt.scatter(train_df['garage_cond'], train_df['saleprice'])\n",
    "plt.subplot(2,1,2)\n",
    "plt.title('Garage Quality to Price')\n",
    "plt.xlabel('Garage Quality')\n",
    "plt.ylabel('Sale Price (in USD)')\n",
    "plt.scatter(train_df['garage_qual'], train_df['saleprice'])\n",
    "plt.tight_layout(rect = (2,2,4,4))\n",
    "plt.show;\n",
    "\n"
   ]
  },
  {
   "cell_type": "code",
   "execution_count": 803,
   "metadata": {},
   "outputs": [
    {
     "data": {
      "text/plain": [
       "3465.498235905956"
      ]
     },
     "execution_count": 803,
     "metadata": {},
     "output_type": "execute_result"
    }
   ],
   "source": [
    "lr.coef_[24]"
   ]
  },
  {
   "cell_type": "code",
   "execution_count": 804,
   "metadata": {},
   "outputs": [
    {
     "data": {
      "text/plain": [
       "-5793.188876759508"
      ]
     },
     "execution_count": 804,
     "metadata": {},
     "output_type": "execute_result"
    }
   ],
   "source": [
    "lr.coef_[25]"
   ]
  },
  {
   "cell_type": "markdown",
   "metadata": {},
   "source": [
    "Short graphs, but the trend is clear:  There comes a point of diminishing returns when it comes to garage quality and condition. Despite what the coefficients of quality and condition tell us, the relationship is not a straight line here.  Instead, improving your garage past a grade of 3 in either specification will have very little impact upon your sale.  However, if your garage is currently in poor condition, consider putting in the work to bring it up to a respectable state.  While going above and beyond may not benefit you, having a poor garage can only harm your final price."
   ]
  },
  {
   "cell_type": "markdown",
   "metadata": {},
   "source": [
    "How about the size of your porch?  If you've got a sizable porch, perhaps you stand to make more money.  And, maybe the kind of porch you build can improve your chances as well!"
   ]
  },
  {
   "cell_type": "code",
   "execution_count": 731,
   "metadata": {},
   "outputs": [
    {
     "data": {
      "image/png": "[encoded data removed]",
      "text/plain": [
       "<Figure size 432x288 with 4 Axes>"
      ]
     },
     "metadata": {
      "needs_background": "light"
     },
     "output_type": "display_data"
    }
   ],
   "source": [
    "plt.subplot(2,2,1)\n",
    "plt.title('Open porch area to Price')\n",
    "plt.xlabel('Open porch area')\n",
    "plt.ylabel('Sale Price (in USD)')\n",
    "plt.scatter(train_df['open_porch_sf'], train_df['saleprice'], alpha = 0.5)\n",
    "plt.subplot(2,2,2)\n",
    "plt.title('Enclosed Porch Area to Price')\n",
    "plt.xlabel('Enclosed Porch Area')\n",
    "plt.ylabel('Sale Price (in USD)')\n",
    "plt.scatter(train_df['enclosed_porch'], train_df['saleprice'], alpha = 0.5)\n",
    "plt.subplot(2,2,3)\n",
    "plt.title('3 Season Porch Area to Price')\n",
    "plt.xlabel('3 Season Porch Area')\n",
    "plt.ylabel('Sale Price (in USD)')\n",
    "plt.scatter(train_df['3ssn_porch'], train_df['saleprice'], alpha = 0.5)\n",
    "plt.subplot(2,2,4)\n",
    "plt.title('Screen Porch Area to Price')\n",
    "plt.xlabel('Screen Porch Area')\n",
    "plt.ylabel('Sale Price (in USD)')\n",
    "plt.scatter(train_df['screen_porch'], train_df['saleprice'], alpha = 0.5)\n",
    "plt.tight_layout(rect = (3,3,6,6))\n",
    "plt.show;\n"
   ]
  },
  {
   "cell_type": "markdown",
   "metadata": {},
   "source": [
    "Judging from these graphs, it seems that a great many houses sold do not, in fact, have any manner of porch at all.  However, if you want to build a porch to increase your value, the best value to area seems to be in building an open porch.  "
   ]
  },
  {
   "cell_type": "markdown",
   "metadata": {},
   "source": [
    "Doesn't look like enough houses in our sample were built with pools, and so we can't make a bet as to how valuable they really are."
   ]
  },
  {
   "cell_type": "code",
   "execution_count": 732,
   "metadata": {},
   "outputs": [
    {
     "data": {
      "image/png": "[encoded data removed]",
      "text/plain": [
       "<Figure size 1080x576 with 1 Axes>"
      ]
     },
     "metadata": {
      "needs_background": "light"
     },
     "output_type": "display_data"
    }
   ],
   "source": [
    "plt.figure(figsize=(15,8))\n",
    "plt.title('Property Condition to Sale Price')\n",
    "plt.xlabel('Overall Condition')\n",
    "plt.ylabel('Sale Price')\n",
    "plt.scatter(train_df['overall_cond'], train_df['saleprice']);"
   ]
  },
  {
   "cell_type": "markdown",
   "metadata": {},
   "source": [
    "Again, much like our garage features, there is a point of diminishing returns.  So long as you reach that middle condition level, you will likely sell for a good price, but improving your house beyond that makes less of a difference."
   ]
  },
  {
   "cell_type": "markdown",
   "metadata": {},
   "source": [
    "# In Conclusion"
   ]
  },
  {
   "cell_type": "markdown",
   "metadata": {},
   "source": [
    "What a homeowner can do to improve their home's value is limited:  it seems that whatever improvements can be made on a home only push the value up to a certain point.  Beyond that, those improvements do not offer a great return on the investment.  Still, that information is valuable:  if the homeowner can renovate their home in the ways that are most efficient (meeting base standards for home and garage conditions, adding a small open porch to the property), then they stand to sell their home for a price that makes those renovations profitable.  Improving the home beyond those base standards may be beneficial in some cases, but you run the risk of spending more than you make in return.\n",
    "So, as my final recommendation, I would say "
   ]
  }
 ],
 "metadata": {
  "kernelspec": {
   "display_name": "Python 3",
   "language": "python",
   "name": "python3"
  },
  "language_info": {
   "codemirror_mode": {
    "name": "ipython",
    "version": 3
   },
   "file_extension": ".py",
   "mimetype": "text/x-python",
   "name": "python",
   "nbconvert_exporter": "python",
   "pygments_lexer": "ipython3",
   "version": "3.8.5"
  }
 },
 "nbformat": 4,
 "nbformat_minor": 4
}
